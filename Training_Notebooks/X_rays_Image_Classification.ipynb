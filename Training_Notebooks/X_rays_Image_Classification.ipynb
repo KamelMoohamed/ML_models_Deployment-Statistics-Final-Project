{
 "cells": [
  {
   "cell_type": "markdown",
   "metadata": {},
   "source": [
    "# X ray Image Classification\n",
    "\n",
    "## Table of content\n",
    "<ul>\n",
    "    <li><a href=\"#dr\">Data Reading.</a></li>\n",
    "    <li><a href=\"#i\">Import Packages.</a></li>\n",
    "    <li><a href=\"#dp\">Data Pre-processing.</a></li>\n",
    "    <li><a href=\"#dl\">Deep Learning Model.</a></li>\n",
    "    <li><a href=\"#s\">Model Saving.</a></li>\n",
    "    <li><a href=\"#mt\">Model Testing.</a></li>\n",
    "    </ul>"
   ]
  },
  {
   "cell_type": "markdown",
   "metadata": {},
   "source": [
    "<a id=\"dr\"></a>\n",
    "## Data Reading"
   ]
  },
  {
   "cell_type": "code",
   "execution_count": 1,
   "metadata": {
    "colab": {
     "base_uri": "https://localhost:8080/"
    },
    "id": "QMc-uMCj2zCZ",
    "outputId": "4e218e60-7b65-4951-f1ff-8470404655aa"
   },
   "outputs": [
    {
     "name": "stdout",
     "output_type": "stream",
     "text": [
      "Archive:  /content/Dataset.zip\n",
      "   creating: data/Dataset/\n",
      "   creating: data/Dataset/COVID PATIENTS/\n",
      "  inflating: data/Dataset/COVID PATIENTS/covid_0.jpg  \n",
      "  inflating: data/Dataset/COVID PATIENTS/covid_1.jpg  \n",
      "  inflating: data/Dataset/COVID PATIENTS/covid_10.jpg  \n",
      "  inflating: data/Dataset/COVID PATIENTS/covid_100.jpg  \n",
      "  inflating: data/Dataset/COVID PATIENTS/covid_101.jpg  \n",
      "  inflating: data/Dataset/COVID PATIENTS/covid_102.jpg  \n",
      "  inflating: data/Dataset/COVID PATIENTS/covid_103.jpg  \n",
      "  inflating: data/Dataset/COVID PATIENTS/covid_104.jpg  \n",
      "  inflating: data/Dataset/COVID PATIENTS/covid_105.jpg  \n",
      "  inflating: data/Dataset/COVID PATIENTS/covid_106.jpg  \n",
      "  inflating: data/Dataset/COVID PATIENTS/covid_107.jpg  \n",
      "  inflating: data/Dataset/COVID PATIENTS/covid_108.jpg  \n",
      "  inflating: data/Dataset/COVID PATIENTS/covid_109.jpg  \n",
      "  inflating: data/Dataset/COVID PATIENTS/covid_11.jpg  \n",
      "  inflating: data/Dataset/COVID PATIENTS/covid_110.jpg  \n",
      "  inflating: data/Dataset/COVID PATIENTS/covid_111.jpg  \n",
      "  inflating: data/Dataset/COVID PATIENTS/covid_112.jpg  \n",
      "  inflating: data/Dataset/COVID PATIENTS/covid_113.jpg  \n",
      "  inflating: data/Dataset/COVID PATIENTS/covid_114.jpg  \n",
      "  inflating: data/Dataset/COVID PATIENTS/covid_115.jpg  \n",
      "  inflating: data/Dataset/COVID PATIENTS/covid_116.jpg  \n",
      "  inflating: data/Dataset/COVID PATIENTS/covid_117.jpg  \n",
      "  inflating: data/Dataset/COVID PATIENTS/covid_118.jpg  \n",
      "  inflating: data/Dataset/COVID PATIENTS/covid_119.jpg  \n",
      "  inflating: data/Dataset/COVID PATIENTS/covid_12.jpg  \n",
      "  inflating: data/Dataset/COVID PATIENTS/covid_120.jpg  \n",
      "  inflating: data/Dataset/COVID PATIENTS/covid_121.jpg  \n",
      "  inflating: data/Dataset/COVID PATIENTS/covid_122.jpg  \n",
      "  inflating: data/Dataset/COVID PATIENTS/covid_123.jpg  \n",
      "  inflating: data/Dataset/COVID PATIENTS/covid_124.jpg  \n",
      "  inflating: data/Dataset/COVID PATIENTS/covid_125.jpg  \n",
      "  inflating: data/Dataset/COVID PATIENTS/covid_126.jpg  \n",
      "  inflating: data/Dataset/COVID PATIENTS/covid_127.jpg  \n",
      "  inflating: data/Dataset/COVID PATIENTS/covid_128.jpg  \n",
      "  inflating: data/Dataset/COVID PATIENTS/covid_129.jpg  \n",
      "  inflating: data/Dataset/COVID PATIENTS/covid_13.jpg  \n",
      "  inflating: data/Dataset/COVID PATIENTS/covid_130.jpg  \n",
      "  inflating: data/Dataset/COVID PATIENTS/covid_131.jpg  \n",
      "  inflating: data/Dataset/COVID PATIENTS/covid_132.jpg  \n",
      "  inflating: data/Dataset/COVID PATIENTS/covid_133.jpg  \n",
      "  inflating: data/Dataset/COVID PATIENTS/covid_134.jpg  \n",
      "  inflating: data/Dataset/COVID PATIENTS/covid_135.jpg  \n",
      "  inflating: data/Dataset/COVID PATIENTS/covid_136.jpg  \n",
      "  inflating: data/Dataset/COVID PATIENTS/covid_137.jpg  \n",
      "  inflating: data/Dataset/COVID PATIENTS/covid_138.jpg  \n",
      "  inflating: data/Dataset/COVID PATIENTS/covid_139.jpg  \n",
      "  inflating: data/Dataset/COVID PATIENTS/covid_14.jpg  \n",
      "  inflating: data/Dataset/COVID PATIENTS/covid_140.jpg  \n",
      "  inflating: data/Dataset/COVID PATIENTS/covid_141.jpg  \n",
      "  inflating: data/Dataset/COVID PATIENTS/covid_142.jpg  \n",
      "  inflating: data/Dataset/COVID PATIENTS/covid_143.jpg  \n",
      "  inflating: data/Dataset/COVID PATIENTS/covid_144.jpg  \n",
      "  inflating: data/Dataset/COVID PATIENTS/covid_145.jpg  \n",
      "  inflating: data/Dataset/COVID PATIENTS/covid_146.jpg  \n",
      "  inflating: data/Dataset/COVID PATIENTS/covid_147.jpg  \n",
      "  inflating: data/Dataset/COVID PATIENTS/covid_148.jpg  \n",
      "  inflating: data/Dataset/COVID PATIENTS/covid_149.jpg  \n",
      "  inflating: data/Dataset/COVID PATIENTS/covid_15.jpg  \n",
      "  inflating: data/Dataset/COVID PATIENTS/covid_150.jpg  \n",
      "  inflating: data/Dataset/COVID PATIENTS/covid_151.jpg  \n",
      "  inflating: data/Dataset/COVID PATIENTS/covid_152.jpg  \n",
      "  inflating: data/Dataset/COVID PATIENTS/covid_153.jpg  \n",
      "  inflating: data/Dataset/COVID PATIENTS/covid_154.jpg  \n",
      "  inflating: data/Dataset/COVID PATIENTS/covid_155.jpg  \n",
      "  inflating: data/Dataset/COVID PATIENTS/covid_156.jpg  \n",
      "  inflating: data/Dataset/COVID PATIENTS/covid_157.jpg  \n",
      "  inflating: data/Dataset/COVID PATIENTS/covid_158.jpg  \n",
      "  inflating: data/Dataset/COVID PATIENTS/covid_159.jpg  \n",
      "  inflating: data/Dataset/COVID PATIENTS/covid_16.jpg  \n",
      "  inflating: data/Dataset/COVID PATIENTS/covid_160.jpg  \n",
      "  inflating: data/Dataset/COVID PATIENTS/covid_161.jpg  \n",
      "  inflating: data/Dataset/COVID PATIENTS/covid_17.jpg  \n",
      "  inflating: data/Dataset/COVID PATIENTS/covid_18.jpg  \n",
      "  inflating: data/Dataset/COVID PATIENTS/covid_19.jpg  \n",
      "  inflating: data/Dataset/COVID PATIENTS/covid_2.jpg  \n",
      "  inflating: data/Dataset/COVID PATIENTS/covid_20.jpg  \n",
      "  inflating: data/Dataset/COVID PATIENTS/covid_21.jpg  \n",
      "  inflating: data/Dataset/COVID PATIENTS/covid_22.jpg  \n",
      "  inflating: data/Dataset/COVID PATIENTS/covid_23.jpg  \n",
      "  inflating: data/Dataset/COVID PATIENTS/covid_24.jpg  \n",
      "  inflating: data/Dataset/COVID PATIENTS/covid_25.jpg  \n",
      "  inflating: data/Dataset/COVID PATIENTS/covid_26.jpg  \n",
      "  inflating: data/Dataset/COVID PATIENTS/covid_27.jpg  \n",
      "  inflating: data/Dataset/COVID PATIENTS/covid_28.jpg  \n",
      "  inflating: data/Dataset/COVID PATIENTS/covid_29.jpg  \n",
      "  inflating: data/Dataset/COVID PATIENTS/covid_3.jpg  \n",
      "  inflating: data/Dataset/COVID PATIENTS/covid_30.jpg  \n",
      "  inflating: data/Dataset/COVID PATIENTS/covid_31.jpg  \n",
      "  inflating: data/Dataset/COVID PATIENTS/covid_32.jpg  \n",
      "  inflating: data/Dataset/COVID PATIENTS/covid_33.jpg  \n",
      "  inflating: data/Dataset/COVID PATIENTS/covid_34.jpg  \n",
      "  inflating: data/Dataset/COVID PATIENTS/covid_35.jpg  \n",
      "  inflating: data/Dataset/COVID PATIENTS/covid_36.jpg  \n",
      "  inflating: data/Dataset/COVID PATIENTS/covid_37.jpg  \n",
      "  inflating: data/Dataset/COVID PATIENTS/covid_38.jpg  \n",
      "  inflating: data/Dataset/COVID PATIENTS/covid_39.jpg  \n",
      "  inflating: data/Dataset/COVID PATIENTS/covid_4.jpg  \n",
      "  inflating: data/Dataset/COVID PATIENTS/covid_40.jpg  \n",
      "  inflating: data/Dataset/COVID PATIENTS/covid_41.jpg  \n",
      "  inflating: data/Dataset/COVID PATIENTS/covid_42.jpg  \n",
      "  inflating: data/Dataset/COVID PATIENTS/covid_43.jpg  \n",
      "  inflating: data/Dataset/COVID PATIENTS/covid_44.jpg  \n",
      "  inflating: data/Dataset/COVID PATIENTS/covid_45.jpg  \n",
      "  inflating: data/Dataset/COVID PATIENTS/covid_46.jpg  \n",
      "  inflating: data/Dataset/COVID PATIENTS/covid_47.jpg  \n",
      "  inflating: data/Dataset/COVID PATIENTS/covid_48.jpg  \n",
      "  inflating: data/Dataset/COVID PATIENTS/covid_49.jpg  \n",
      "  inflating: data/Dataset/COVID PATIENTS/covid_5.jpg  \n",
      "  inflating: data/Dataset/COVID PATIENTS/covid_50.jpg  \n",
      "  inflating: data/Dataset/COVID PATIENTS/covid_51.jpg  \n",
      "  inflating: data/Dataset/COVID PATIENTS/covid_52.jpg  \n",
      "  inflating: data/Dataset/COVID PATIENTS/covid_53.jpg  \n",
      "  inflating: data/Dataset/COVID PATIENTS/covid_54.jpg  \n",
      "  inflating: data/Dataset/COVID PATIENTS/covid_55.jpg  \n",
      "  inflating: data/Dataset/COVID PATIENTS/covid_56.jpg  \n",
      "  inflating: data/Dataset/COVID PATIENTS/covid_57.jpg  \n",
      "  inflating: data/Dataset/COVID PATIENTS/covid_58.jpg  \n",
      "  inflating: data/Dataset/COVID PATIENTS/covid_59.jpg  \n",
      "  inflating: data/Dataset/COVID PATIENTS/covid_6.jpg  \n",
      "  inflating: data/Dataset/COVID PATIENTS/covid_60.jpg  \n",
      "  inflating: data/Dataset/COVID PATIENTS/covid_61.jpg  \n",
      "  inflating: data/Dataset/COVID PATIENTS/covid_62.jpg  \n",
      "  inflating: data/Dataset/COVID PATIENTS/covid_63.jpg  \n",
      "  inflating: data/Dataset/COVID PATIENTS/covid_64.jpg  \n",
      "  inflating: data/Dataset/COVID PATIENTS/covid_65.jpg  \n",
      "  inflating: data/Dataset/COVID PATIENTS/covid_66.jpg  \n",
      "  inflating: data/Dataset/COVID PATIENTS/covid_67.jpg  \n",
      "  inflating: data/Dataset/COVID PATIENTS/covid_68.jpg  \n",
      "  inflating: data/Dataset/COVID PATIENTS/covid_69.jpg  \n",
      "  inflating: data/Dataset/COVID PATIENTS/covid_7.jpg  \n",
      "  inflating: data/Dataset/COVID PATIENTS/covid_70.jpg  \n",
      "  inflating: data/Dataset/COVID PATIENTS/covid_71.jpg  \n",
      "  inflating: data/Dataset/COVID PATIENTS/covid_72.jpg  \n",
      "  inflating: data/Dataset/COVID PATIENTS/covid_73.jpg  \n",
      "  inflating: data/Dataset/COVID PATIENTS/covid_74.jpg  \n",
      "  inflating: data/Dataset/COVID PATIENTS/covid_75.jpg  \n",
      "  inflating: data/Dataset/COVID PATIENTS/covid_76.jpg  \n",
      "  inflating: data/Dataset/COVID PATIENTS/covid_77.jpg  \n",
      "  inflating: data/Dataset/COVID PATIENTS/covid_78.jpg  \n",
      "  inflating: data/Dataset/COVID PATIENTS/covid_79.jpg  \n",
      "  inflating: data/Dataset/COVID PATIENTS/covid_8.jpg  \n",
      "  inflating: data/Dataset/COVID PATIENTS/covid_80.jpg  \n",
      "  inflating: data/Dataset/COVID PATIENTS/covid_81.jpg  \n",
      "  inflating: data/Dataset/COVID PATIENTS/covid_82.jpg  \n",
      "  inflating: data/Dataset/COVID PATIENTS/covid_83.jpg  \n",
      "  inflating: data/Dataset/COVID PATIENTS/covid_84.jpg  \n",
      "  inflating: data/Dataset/COVID PATIENTS/covid_85.jpg  \n",
      "  inflating: data/Dataset/COVID PATIENTS/covid_86.jpg  \n",
      "  inflating: data/Dataset/COVID PATIENTS/covid_87.jpg  \n",
      "  inflating: data/Dataset/COVID PATIENTS/covid_88.jpg  \n",
      "  inflating: data/Dataset/COVID PATIENTS/covid_89.jpg  \n",
      "  inflating: data/Dataset/COVID PATIENTS/covid_9.jpg  \n",
      "  inflating: data/Dataset/COVID PATIENTS/covid_90.jpg  \n",
      "  inflating: data/Dataset/COVID PATIENTS/covid_91.jpg  \n",
      "  inflating: data/Dataset/COVID PATIENTS/covid_92.jpg  \n",
      "  inflating: data/Dataset/COVID PATIENTS/covid_93.jpg  \n",
      "  inflating: data/Dataset/COVID PATIENTS/covid_94.jpg  \n",
      "  inflating: data/Dataset/COVID PATIENTS/covid_95.jpg  \n",
      "  inflating: data/Dataset/COVID PATIENTS/covid_96.jpg  \n",
      "  inflating: data/Dataset/COVID PATIENTS/covid_97.jpg  \n",
      "  inflating: data/Dataset/COVID PATIENTS/covid_98.jpg  \n",
      "  inflating: data/Dataset/COVID PATIENTS/covid_99.jpg  \n",
      "   creating: data/Dataset/NORMAL PATIENTS/\n",
      "  inflating: data/Dataset/NORMAL PATIENTS/normal_0.jpg  \n",
      "  inflating: data/Dataset/NORMAL PATIENTS/normal_1.jpg  \n",
      "  inflating: data/Dataset/NORMAL PATIENTS/normal_10.jpg  \n",
      "  inflating: data/Dataset/NORMAL PATIENTS/normal_100.jpg  \n",
      "  inflating: data/Dataset/NORMAL PATIENTS/normal_101.jpg  \n",
      "  inflating: data/Dataset/NORMAL PATIENTS/normal_102.jpg  \n",
      "  inflating: data/Dataset/NORMAL PATIENTS/normal_103.jpg  \n",
      "  inflating: data/Dataset/NORMAL PATIENTS/normal_104.jpg  \n",
      "  inflating: data/Dataset/NORMAL PATIENTS/normal_105.jpg  \n",
      "  inflating: data/Dataset/NORMAL PATIENTS/normal_106.jpg  \n",
      "  inflating: data/Dataset/NORMAL PATIENTS/normal_107.jpg  \n",
      "  inflating: data/Dataset/NORMAL PATIENTS/normal_108.jpg  \n",
      "  inflating: data/Dataset/NORMAL PATIENTS/normal_109.jpg  \n",
      "  inflating: data/Dataset/NORMAL PATIENTS/normal_11.jpg  \n",
      "  inflating: data/Dataset/NORMAL PATIENTS/normal_110.jpg  \n",
      "  inflating: data/Dataset/NORMAL PATIENTS/normal_111.jpg  \n",
      "  inflating: data/Dataset/NORMAL PATIENTS/normal_112.jpg  \n",
      "  inflating: data/Dataset/NORMAL PATIENTS/normal_113.jpg  \n",
      "  inflating: data/Dataset/NORMAL PATIENTS/normal_114.jpg  \n",
      "  inflating: data/Dataset/NORMAL PATIENTS/normal_115.jpg  \n",
      "  inflating: data/Dataset/NORMAL PATIENTS/normal_116.jpg  \n",
      "  inflating: data/Dataset/NORMAL PATIENTS/normal_117.jpg  \n",
      "  inflating: data/Dataset/NORMAL PATIENTS/normal_118.jpg  \n",
      "  inflating: data/Dataset/NORMAL PATIENTS/normal_119.jpg  \n",
      "  inflating: data/Dataset/NORMAL PATIENTS/normal_12.jpg  \n",
      "  inflating: data/Dataset/NORMAL PATIENTS/normal_120.jpg  \n",
      "  inflating: data/Dataset/NORMAL PATIENTS/normal_121.jpg  \n",
      "  inflating: data/Dataset/NORMAL PATIENTS/normal_122.jpg  \n",
      "  inflating: data/Dataset/NORMAL PATIENTS/normal_123.jpg  \n",
      "  inflating: data/Dataset/NORMAL PATIENTS/normal_124.jpg  \n",
      "  inflating: data/Dataset/NORMAL PATIENTS/normal_125.jpg  \n",
      "  inflating: data/Dataset/NORMAL PATIENTS/normal_126.jpg  \n",
      "  inflating: data/Dataset/NORMAL PATIENTS/normal_127.jpg  \n",
      "  inflating: data/Dataset/NORMAL PATIENTS/normal_128.jpg  \n",
      "  inflating: data/Dataset/NORMAL PATIENTS/normal_129.jpg  \n",
      "  inflating: data/Dataset/NORMAL PATIENTS/normal_13.jpg  \n",
      "  inflating: data/Dataset/NORMAL PATIENTS/normal_130.jpg  \n",
      "  inflating: data/Dataset/NORMAL PATIENTS/normal_131.jpg  \n",
      "  inflating: data/Dataset/NORMAL PATIENTS/normal_132.jpg  \n",
      "  inflating: data/Dataset/NORMAL PATIENTS/normal_133.jpg  \n",
      "  inflating: data/Dataset/NORMAL PATIENTS/normal_134.jpg  \n",
      "  inflating: data/Dataset/NORMAL PATIENTS/normal_135.jpg  \n",
      "  inflating: data/Dataset/NORMAL PATIENTS/normal_136.jpg  \n",
      "  inflating: data/Dataset/NORMAL PATIENTS/normal_137.jpg  \n",
      "  inflating: data/Dataset/NORMAL PATIENTS/normal_138.jpg  \n",
      "  inflating: data/Dataset/NORMAL PATIENTS/normal_139.jpg  \n",
      "  inflating: data/Dataset/NORMAL PATIENTS/normal_14.jpg  \n",
      "  inflating: data/Dataset/NORMAL PATIENTS/normal_140.jpg  \n",
      "  inflating: data/Dataset/NORMAL PATIENTS/normal_141.jpg  \n",
      "  inflating: data/Dataset/NORMAL PATIENTS/normal_142.jpg  \n",
      "  inflating: data/Dataset/NORMAL PATIENTS/normal_143.jpg  \n",
      "  inflating: data/Dataset/NORMAL PATIENTS/normal_144.jpg  \n",
      "  inflating: data/Dataset/NORMAL PATIENTS/normal_145.jpg  \n",
      "  inflating: data/Dataset/NORMAL PATIENTS/normal_146.jpg  \n",
      "  inflating: data/Dataset/NORMAL PATIENTS/normal_147.jpg  \n",
      "  inflating: data/Dataset/NORMAL PATIENTS/normal_148.jpg  \n",
      "  inflating: data/Dataset/NORMAL PATIENTS/normal_149.jpg  \n",
      "  inflating: data/Dataset/NORMAL PATIENTS/normal_15.jpg  \n",
      "  inflating: data/Dataset/NORMAL PATIENTS/normal_150.jpg  \n",
      "  inflating: data/Dataset/NORMAL PATIENTS/normal_151.jpg  \n",
      "  inflating: data/Dataset/NORMAL PATIENTS/normal_152.jpg  \n",
      "  inflating: data/Dataset/NORMAL PATIENTS/normal_153.jpg  \n",
      "  inflating: data/Dataset/NORMAL PATIENTS/normal_154.jpg  \n",
      "  inflating: data/Dataset/NORMAL PATIENTS/normal_155.jpg  \n",
      "  inflating: data/Dataset/NORMAL PATIENTS/normal_156.jpg  \n",
      "  inflating: data/Dataset/NORMAL PATIENTS/normal_157.jpg  \n",
      "  inflating: data/Dataset/NORMAL PATIENTS/normal_158.jpg  \n",
      "  inflating: data/Dataset/NORMAL PATIENTS/normal_159.jpg  \n",
      "  inflating: data/Dataset/NORMAL PATIENTS/normal_16.jpg  \n",
      "  inflating: data/Dataset/NORMAL PATIENTS/normal_160.jpg  \n",
      "  inflating: data/Dataset/NORMAL PATIENTS/normal_161.jpg  \n",
      "  inflating: data/Dataset/NORMAL PATIENTS/normal_17.jpg  \n",
      "  inflating: data/Dataset/NORMAL PATIENTS/normal_18.jpg  \n",
      "  inflating: data/Dataset/NORMAL PATIENTS/normal_19.jpg  \n",
      "  inflating: data/Dataset/NORMAL PATIENTS/normal_2.jpg  \n",
      "  inflating: data/Dataset/NORMAL PATIENTS/normal_20.jpg  \n",
      "  inflating: data/Dataset/NORMAL PATIENTS/normal_21.jpg  \n",
      "  inflating: data/Dataset/NORMAL PATIENTS/normal_22.jpg  \n",
      "  inflating: data/Dataset/NORMAL PATIENTS/normal_23.jpg  \n",
      "  inflating: data/Dataset/NORMAL PATIENTS/normal_24.jpg  \n",
      "  inflating: data/Dataset/NORMAL PATIENTS/normal_25.jpg  \n",
      "  inflating: data/Dataset/NORMAL PATIENTS/normal_26.jpg  \n",
      "  inflating: data/Dataset/NORMAL PATIENTS/normal_27.jpg  \n",
      "  inflating: data/Dataset/NORMAL PATIENTS/normal_28.jpg  \n",
      "  inflating: data/Dataset/NORMAL PATIENTS/normal_29.jpg  \n",
      "  inflating: data/Dataset/NORMAL PATIENTS/normal_3.jpg  \n",
      "  inflating: data/Dataset/NORMAL PATIENTS/normal_30.jpg  \n",
      "  inflating: data/Dataset/NORMAL PATIENTS/normal_31.jpg  \n",
      "  inflating: data/Dataset/NORMAL PATIENTS/normal_32.jpg  \n",
      "  inflating: data/Dataset/NORMAL PATIENTS/normal_33.jpg  \n",
      "  inflating: data/Dataset/NORMAL PATIENTS/normal_34.jpg  \n",
      "  inflating: data/Dataset/NORMAL PATIENTS/normal_35.jpg  \n",
      "  inflating: data/Dataset/NORMAL PATIENTS/normal_36.jpg  \n",
      "  inflating: data/Dataset/NORMAL PATIENTS/normal_37.jpg  \n",
      "  inflating: data/Dataset/NORMAL PATIENTS/normal_38.jpg  \n",
      "  inflating: data/Dataset/NORMAL PATIENTS/normal_39.jpg  \n",
      "  inflating: data/Dataset/NORMAL PATIENTS/normal_4.jpg  \n",
      "  inflating: data/Dataset/NORMAL PATIENTS/normal_40.jpg  \n",
      "  inflating: data/Dataset/NORMAL PATIENTS/normal_41.jpg  \n",
      "  inflating: data/Dataset/NORMAL PATIENTS/normal_42.jpg  \n",
      "  inflating: data/Dataset/NORMAL PATIENTS/normal_43.jpg  \n",
      "  inflating: data/Dataset/NORMAL PATIENTS/normal_44.jpg  \n",
      "  inflating: data/Dataset/NORMAL PATIENTS/normal_45.jpg  \n",
      "  inflating: data/Dataset/NORMAL PATIENTS/normal_46.jpg  \n",
      "  inflating: data/Dataset/NORMAL PATIENTS/normal_47.jpg  \n",
      "  inflating: data/Dataset/NORMAL PATIENTS/normal_48.jpg  \n",
      "  inflating: data/Dataset/NORMAL PATIENTS/normal_49.jpg  \n",
      "  inflating: data/Dataset/NORMAL PATIENTS/normal_5.jpg  \n",
      "  inflating: data/Dataset/NORMAL PATIENTS/normal_50.jpg  \n",
      "  inflating: data/Dataset/NORMAL PATIENTS/normal_51.jpg  \n",
      "  inflating: data/Dataset/NORMAL PATIENTS/normal_52.jpg  \n",
      "  inflating: data/Dataset/NORMAL PATIENTS/normal_53.jpg  \n",
      "  inflating: data/Dataset/NORMAL PATIENTS/normal_54.jpg  \n",
      "  inflating: data/Dataset/NORMAL PATIENTS/normal_55.jpg  \n",
      "  inflating: data/Dataset/NORMAL PATIENTS/normal_56.jpg  \n",
      "  inflating: data/Dataset/NORMAL PATIENTS/normal_57.jpg  \n",
      "  inflating: data/Dataset/NORMAL PATIENTS/normal_58.jpg  \n",
      "  inflating: data/Dataset/NORMAL PATIENTS/normal_59.jpg  \n",
      "  inflating: data/Dataset/NORMAL PATIENTS/normal_6.jpg  \n",
      "  inflating: data/Dataset/NORMAL PATIENTS/normal_60.jpg  \n",
      "  inflating: data/Dataset/NORMAL PATIENTS/normal_61.jpg  \n",
      "  inflating: data/Dataset/NORMAL PATIENTS/normal_62.jpg  \n",
      "  inflating: data/Dataset/NORMAL PATIENTS/normal_63.jpg  \n",
      "  inflating: data/Dataset/NORMAL PATIENTS/normal_64.jpg  \n",
      "  inflating: data/Dataset/NORMAL PATIENTS/normal_65.jpg  \n",
      "  inflating: data/Dataset/NORMAL PATIENTS/normal_66.jpg  \n",
      "  inflating: data/Dataset/NORMAL PATIENTS/normal_67.jpg  \n",
      "  inflating: data/Dataset/NORMAL PATIENTS/normal_68.jpg  \n",
      "  inflating: data/Dataset/NORMAL PATIENTS/normal_69.jpg  \n",
      "  inflating: data/Dataset/NORMAL PATIENTS/normal_7.jpg  \n",
      "  inflating: data/Dataset/NORMAL PATIENTS/normal_70.jpg  \n",
      "  inflating: data/Dataset/NORMAL PATIENTS/normal_71.jpg  \n",
      "  inflating: data/Dataset/NORMAL PATIENTS/normal_72.jpg  \n",
      "  inflating: data/Dataset/NORMAL PATIENTS/normal_73.jpg  \n",
      "  inflating: data/Dataset/NORMAL PATIENTS/normal_74.jpg  \n",
      "  inflating: data/Dataset/NORMAL PATIENTS/normal_75.jpg  \n",
      "  inflating: data/Dataset/NORMAL PATIENTS/normal_76.jpg  \n",
      "  inflating: data/Dataset/NORMAL PATIENTS/normal_77.jpg  \n",
      "  inflating: data/Dataset/NORMAL PATIENTS/normal_78.jpg  \n",
      "  inflating: data/Dataset/NORMAL PATIENTS/normal_79.jpg  \n",
      "  inflating: data/Dataset/NORMAL PATIENTS/normal_8.jpg  \n",
      "  inflating: data/Dataset/NORMAL PATIENTS/normal_80.jpg  \n",
      "  inflating: data/Dataset/NORMAL PATIENTS/normal_81.jpg  \n",
      "  inflating: data/Dataset/NORMAL PATIENTS/normal_82.jpg  \n",
      "  inflating: data/Dataset/NORMAL PATIENTS/normal_83.jpg  \n",
      "  inflating: data/Dataset/NORMAL PATIENTS/normal_84.jpg  \n",
      "  inflating: data/Dataset/NORMAL PATIENTS/normal_85.jpg  \n",
      "  inflating: data/Dataset/NORMAL PATIENTS/normal_86.jpg  \n",
      "  inflating: data/Dataset/NORMAL PATIENTS/normal_87.jpg  \n",
      "  inflating: data/Dataset/NORMAL PATIENTS/normal_88.jpg  \n",
      "  inflating: data/Dataset/NORMAL PATIENTS/normal_89.jpg  \n",
      "  inflating: data/Dataset/NORMAL PATIENTS/normal_9.jpg  \n",
      "  inflating: data/Dataset/NORMAL PATIENTS/normal_90.jpg  \n",
      "  inflating: data/Dataset/NORMAL PATIENTS/normal_91.jpg  \n",
      "  inflating: data/Dataset/NORMAL PATIENTS/normal_92.jpg  \n",
      "  inflating: data/Dataset/NORMAL PATIENTS/normal_93.jpg  \n",
      "  inflating: data/Dataset/NORMAL PATIENTS/normal_94.jpg  \n",
      "  inflating: data/Dataset/NORMAL PATIENTS/normal_95.jpg  \n",
      "  inflating: data/Dataset/NORMAL PATIENTS/normal_96.jpg  \n",
      "  inflating: data/Dataset/NORMAL PATIENTS/normal_97.jpg  \n",
      "  inflating: data/Dataset/NORMAL PATIENTS/normal_98.jpg  \n",
      "  inflating: data/Dataset/NORMAL PATIENTS/normal_99.jpg  \n"
     ]
    }
   ],
   "source": [
    "! mkdir data\n",
    "! unzip /content/Dataset.zip -d data"
   ]
  },
  {
   "cell_type": "markdown",
   "metadata": {},
   "source": [
    "<a id=\"i\"></a>\n",
    "## Import Packages"
   ]
  },
  {
   "cell_type": "code",
   "execution_count": 2,
   "metadata": {
    "id": "fc4BARWiI_z3"
   },
   "outputs": [],
   "source": [
    "from tensorflow import keras\n",
    "from tensorflow.keras.models import Sequential\n",
    "from tensorflow.keras.layers import Conv2D, MaxPooling2D, Flatten, Dense, Dropout\n",
    "from tensorflow.keras.metrics import AUC, TruePositives, TrueNegatives, FalsePositives, FalseNegatives\n",
    "from tensorflow.keras.preprocessing.image import ImageDataGenerator, load_img, img_to_array, array_to_img\n",
    "from keras.applications.vgg16 import preprocess_input\n",
    "from tensorflow.keras.optimizers import Adam\n",
    "from tensorflow.keras.regularizers import l2"
   ]
  },
  {
   "cell_type": "markdown",
   "metadata": {},
   "source": [
    "<a id=\"dp\"></a>\n",
    "## Data Pre-processing"
   ]
  },
  {
   "cell_type": "code",
   "execution_count": 3,
   "metadata": {
    "id": "ykwJtZm2veQc"
   },
   "outputs": [],
   "source": [
    "# Create a data generator                             \n",
    "train_datagen = ImageDataGenerator(rotation_range=10,\n",
    "                                   validation_split = 0.2,\n",
    "                                       rescale=1./255,\n",
    "                              horizontal_flip=True)"
   ]
  },
  {
   "cell_type": "code",
   "execution_count": 4,
   "metadata": {
    "colab": {
     "base_uri": "https://localhost:8080/"
    },
    "id": "Xj7WzBWuwJFN",
    "outputId": "e3b6ff96-fad3-4b87-aae8-2f118473384a"
   },
   "outputs": [
    {
     "name": "stdout",
     "output_type": "stream",
     "text": [
      "Found 260 images belonging to 2 classes.\n",
      "Found 64 images belonging to 2 classes.\n"
     ]
    }
   ],
   "source": [
    "# load and iterate training dataset\n",
    "train = train_datagen.flow_from_directory(\n",
    "    \"/content/data/Dataset\",\n",
    "    target_size=(224, 224),\n",
    "    class_mode='binary',\n",
    "    color_mode = 'grayscale',\n",
    "    batch_size=32,\n",
    "    subset='training'\n",
    ")\n",
    "\n",
    "valid =train_datagen.flow_from_directory(\n",
    "    \"/content/data/Dataset\",\n",
    "    target_size=(224, 224),\n",
    "    class_mode='binary',\n",
    "    color_mode = 'grayscale',\n",
    "    batch_size=32,\n",
    "    subset='validation'\n",
    ")"
   ]
  },
  {
   "cell_type": "markdown",
   "metadata": {},
   "source": [
    "<a id=\"dl\"></a>\n",
    "## Deep Learning Model"
   ]
  },
  {
   "cell_type": "code",
   "execution_count": 5,
   "metadata": {
    "id": "Zz_wGh3Aw0JT"
   },
   "outputs": [],
   "source": [
    "Model = keras.models.Sequential()\n",
    "\n",
    "Model.add(keras.layers.Conv2D(200,kernel_size=(3,3),activation='relu'))\n",
    "Model.add(keras.layers.MaxPool2D(4,4))\n",
    "Model.add(keras.layers.Conv2D(120,kernel_size=(3,3),activation='relu')) \n",
    "Model.add(keras.layers.Conv2D(50,kernel_size=(3,3),activation='relu'))\n",
    "Model.add(keras.layers.MaxPool2D(4,4))\n",
    "Model.add(keras.layers.Flatten())\n",
    "Model.add(keras.layers.Dense(120,activation='relu'))\n",
    "Model.add(keras.layers.Dense(50,activation='relu'))  \n",
    "Model.add(keras.layers.Dropout(rate=0.5))\n",
    "Model.add(keras.layers.Dense(1,activation='sigmoid'))"
   ]
  },
  {
   "cell_type": "code",
   "execution_count": 6,
   "metadata": {
    "id": "qSmgpdVYV3GK"
   },
   "outputs": [],
   "source": [
    "epochs = 30\n",
    "lr = 1e-4\n",
    "\n",
    "Model.compile(optimizer=Adam(learning_rate=lr), loss='binary_crossentropy', metrics='accuracy')"
   ]
  },
  {
   "cell_type": "code",
   "execution_count": 15,
   "metadata": {
    "colab": {
     "base_uri": "https://localhost:8080/"
    },
    "id": "BO4lid8Lw4FI",
    "outputId": "d0188e01-96af-4553-8f26-0bbf18a05183"
   },
   "outputs": [
    {
     "name": "stdout",
     "output_type": "stream",
     "text": [
      "Model: \"sequential\"\n",
      "_________________________________________________________________\n",
      " Layer (type)                Output Shape              Param #   \n",
      "=================================================================\n",
      " conv2d (Conv2D)             (None, None, None, 200)   2000      \n",
      "                                                                 \n",
      " max_pooling2d (MaxPooling2D  (None, None, None, 200)  0         \n",
      " )                                                               \n",
      "                                                                 \n",
      " conv2d_1 (Conv2D)           (None, None, None, 120)   216120    \n",
      "                                                                 \n",
      " conv2d_2 (Conv2D)           (None, None, None, 50)    54050     \n",
      "                                                                 \n",
      " max_pooling2d_1 (MaxPooling  (None, None, None, 50)   0         \n",
      " 2D)                                                             \n",
      "                                                                 \n",
      " flatten (Flatten)           (None, None)              0         \n",
      "                                                                 \n",
      " dense (Dense)               (None, 120)               864120    \n",
      "                                                                 \n",
      " dense_1 (Dense)             (None, 50)                6050      \n",
      "                                                                 \n",
      " dropout (Dropout)           (None, 50)                0         \n",
      "                                                                 \n",
      " dense_2 (Dense)             (None, 1)                 51        \n",
      "                                                                 \n",
      "=================================================================\n",
      "Total params: 1,142,391\n",
      "Trainable params: 1,142,391\n",
      "Non-trainable params: 0\n",
      "_________________________________________________________________\n"
     ]
    }
   ],
   "source": [
    "Model.summary()"
   ]
  },
  {
   "cell_type": "code",
   "execution_count": 7,
   "metadata": {
    "colab": {
     "base_uri": "https://localhost:8080/"
    },
    "id": "3-o5xIYew5-y",
    "outputId": "d64bb929-9a95-428b-894f-4b4b1eeb4a37"
   },
   "outputs": [
    {
     "name": "stdout",
     "output_type": "stream",
     "text": [
      "Epoch 1/30\n",
      "8/8 [==============================] - 54s 7s/step - loss: 0.6927 - accuracy: 0.5038 - val_loss: 0.6902 - val_accuracy: 0.5000\n",
      "Epoch 2/30\n",
      "8/8 [==============================] - 52s 7s/step - loss: 0.6930 - accuracy: 0.4923 - val_loss: 0.6869 - val_accuracy: 0.5000\n",
      "Epoch 3/30\n",
      "8/8 [==============================] - 52s 6s/step - loss: 0.6848 - accuracy: 0.5731 - val_loss: 0.6845 - val_accuracy: 0.5469\n",
      "Epoch 4/30\n",
      "8/8 [==============================] - 53s 7s/step - loss: 0.6822 - accuracy: 0.5923 - val_loss: 0.6787 - val_accuracy: 0.5938\n",
      "Epoch 5/30\n",
      "8/8 [==============================] - 52s 6s/step - loss: 0.6707 - accuracy: 0.6962 - val_loss: 0.6655 - val_accuracy: 0.7656\n",
      "Epoch 6/30\n",
      "8/8 [==============================] - 55s 7s/step - loss: 0.6482 - accuracy: 0.6769 - val_loss: 0.6480 - val_accuracy: 0.6094\n",
      "Epoch 7/30\n",
      "8/8 [==============================] - 53s 7s/step - loss: 0.6222 - accuracy: 0.6808 - val_loss: 0.6124 - val_accuracy: 0.7344\n",
      "Epoch 8/30\n",
      "8/8 [==============================] - 53s 7s/step - loss: 0.5976 - accuracy: 0.7115 - val_loss: 0.5910 - val_accuracy: 0.7344\n",
      "Epoch 9/30\n",
      "8/8 [==============================] - 53s 7s/step - loss: 0.5571 - accuracy: 0.7462 - val_loss: 0.5373 - val_accuracy: 0.7969\n",
      "Epoch 10/30\n",
      "8/8 [==============================] - 53s 7s/step - loss: 0.4954 - accuracy: 0.8077 - val_loss: 0.4754 - val_accuracy: 0.8438\n",
      "Epoch 11/30\n",
      "8/8 [==============================] - 53s 7s/step - loss: 0.4506 - accuracy: 0.8038 - val_loss: 0.4412 - val_accuracy: 0.8594\n",
      "Epoch 12/30\n",
      "8/8 [==============================] - 53s 7s/step - loss: 0.3801 - accuracy: 0.8500 - val_loss: 0.6725 - val_accuracy: 0.6406\n",
      "Epoch 13/30\n",
      "8/8 [==============================] - 53s 7s/step - loss: 0.5382 - accuracy: 0.7577 - val_loss: 0.5149 - val_accuracy: 0.7344\n",
      "Epoch 14/30\n",
      "8/8 [==============================] - 53s 7s/step - loss: 0.4738 - accuracy: 0.7769 - val_loss: 0.4460 - val_accuracy: 0.8281\n",
      "Epoch 15/30\n",
      "8/8 [==============================] - 53s 7s/step - loss: 0.4097 - accuracy: 0.8346 - val_loss: 0.4831 - val_accuracy: 0.7812\n",
      "Epoch 16/30\n",
      "8/8 [==============================] - 56s 7s/step - loss: 0.4461 - accuracy: 0.7962 - val_loss: 0.4719 - val_accuracy: 0.7188\n",
      "Epoch 17/30\n",
      "8/8 [==============================] - 53s 7s/step - loss: 0.4325 - accuracy: 0.8115 - val_loss: 0.4031 - val_accuracy: 0.8750\n",
      "Epoch 18/30\n",
      "8/8 [==============================] - 53s 7s/step - loss: 0.3801 - accuracy: 0.8346 - val_loss: 0.4263 - val_accuracy: 0.8438\n",
      "Epoch 19/30\n",
      "8/8 [==============================] - 53s 7s/step - loss: 0.3525 - accuracy: 0.8423 - val_loss: 0.3755 - val_accuracy: 0.8281\n",
      "Epoch 20/30\n",
      "8/8 [==============================] - 53s 7s/step - loss: 0.3357 - accuracy: 0.8654 - val_loss: 0.4225 - val_accuracy: 0.7812\n",
      "Epoch 21/30\n",
      "8/8 [==============================] - 54s 7s/step - loss: 0.3714 - accuracy: 0.8731 - val_loss: 0.4363 - val_accuracy: 0.8281\n",
      "Epoch 22/30\n",
      "8/8 [==============================] - 54s 7s/step - loss: 0.3394 - accuracy: 0.8654 - val_loss: 0.3510 - val_accuracy: 0.8594\n",
      "Epoch 23/30\n",
      "8/8 [==============================] - 54s 7s/step - loss: 0.3415 - accuracy: 0.8769 - val_loss: 0.3794 - val_accuracy: 0.8594\n",
      "Epoch 24/30\n",
      "8/8 [==============================] - 54s 7s/step - loss: 0.3129 - accuracy: 0.8808 - val_loss: 0.3579 - val_accuracy: 0.8594\n",
      "Epoch 25/30\n",
      "8/8 [==============================] - 54s 7s/step - loss: 0.3365 - accuracy: 0.8808 - val_loss: 0.3355 - val_accuracy: 0.8438\n",
      "Epoch 26/30\n",
      "8/8 [==============================] - 54s 7s/step - loss: 0.3908 - accuracy: 0.8346 - val_loss: 0.3625 - val_accuracy: 0.8906\n",
      "Epoch 27/30\n",
      "8/8 [==============================] - 53s 7s/step - loss: 0.3467 - accuracy: 0.8731 - val_loss: 0.3463 - val_accuracy: 0.8594\n",
      "Epoch 28/30\n",
      "8/8 [==============================] - 53s 7s/step - loss: 0.3089 - accuracy: 0.9038 - val_loss: 0.3856 - val_accuracy: 0.8594\n",
      "Epoch 29/30\n",
      "8/8 [==============================] - 53s 7s/step - loss: 0.2816 - accuracy: 0.8885 - val_loss: 0.3846 - val_accuracy: 0.8438\n",
      "Epoch 30/30\n",
      "8/8 [==============================] - 53s 7s/step - loss: 0.2612 - accuracy: 0.8731 - val_loss: 0.3944 - val_accuracy: 0.8594\n"
     ]
    }
   ],
   "source": [
    "Model_history = Model.fit(train,\n",
    "                                epochs=epochs,\n",
    "                                verbose=1,\n",
    "                                validation_data=valid,\n",
    "                                steps_per_epoch=train.samples/train.batch_size,\n",
    "                                validation_steps=valid.samples/valid.batch_size)"
   ]
  },
  {
   "cell_type": "markdown",
   "metadata": {},
   "source": [
    "<a id=\"s\"></a>\n",
    "## Model Saving"
   ]
  },
  {
   "cell_type": "code",
   "execution_count": 8,
   "metadata": {
    "id": "mDOFf8WvWalA"
   },
   "outputs": [],
   "source": [
    "Model.save(\"image_classification.h5\")"
   ]
  },
  {
   "cell_type": "markdown",
   "metadata": {},
   "source": [
    "<a id=\"mt\"></a>\n",
    "## Model Testing"
   ]
  },
  {
   "cell_type": "code",
   "execution_count": 9,
   "metadata": {
    "colab": {
     "base_uri": "https://localhost:8080/"
    },
    "id": "q65UKOBs2yCR",
    "outputId": "b846b47d-d6ed-4b3d-cb55-c38c5ea3a71f"
   },
   "outputs": [
    {
     "name": "stdout",
     "output_type": "stream",
     "text": [
      "9/9 [==============================] - 13s 1s/step - loss: 0.2529 - accuracy: 0.8962\n"
     ]
    },
    {
     "data": {
      "text/plain": [
       "[0.252910315990448, 0.8961538672447205]"
      ]
     },
     "execution_count": 9,
     "metadata": {},
     "output_type": "execute_result"
    }
   ],
   "source": [
    "Model.evaluate(train)"
   ]
  },
  {
   "cell_type": "code",
   "execution_count": 10,
   "metadata": {
    "colab": {
     "base_uri": "https://localhost:8080/"
    },
    "id": "gu-KNMtAWAhP",
    "outputId": "5698a773-52e6-4953-f9ac-c5ba1ff5b185"
   },
   "outputs": [
    {
     "name": "stdout",
     "output_type": "stream",
     "text": [
      "2/2 [==============================] - 3s 2s/step - loss: 0.3670 - accuracy: 0.8750\n"
     ]
    },
    {
     "data": {
      "text/plain": [
       "[0.3669748306274414, 0.875]"
      ]
     },
     "execution_count": 10,
     "metadata": {},
     "output_type": "execute_result"
    }
   ],
   "source": [
    "Model.evaluate(valid)"
   ]
  },
  {
   "cell_type": "markdown",
   "metadata": {
    "id": "4Z2N5KgOWNFG"
   },
   "source": [
    "### Test on COVID IMAGE"
   ]
  },
  {
   "cell_type": "code",
   "execution_count": 12,
   "metadata": {
    "colab": {
     "base_uri": "https://localhost:8080/"
    },
    "id": "hlhVJup95Ixq",
    "outputId": "3c607522-89bb-49ff-b9ea-5d93a4a7ee20"
   },
   "outputs": [
    {
     "name": "stderr",
     "output_type": "stream",
     "text": [
      "/usr/local/lib/python3.7/dist-packages/keras_preprocessing/image/utils.py:107: UserWarning: grayscale is deprecated. Please use color_mode = \"grayscale\"\n",
      "  warnings.warn('grayscale is deprecated. Please use '\n"
     ]
    },
    {
     "data": {
      "text/plain": [
       "array([[0.]], dtype=float32)"
      ]
     },
     "execution_count": 12,
     "metadata": {},
     "output_type": "execute_result"
    }
   ],
   "source": [
    "my_image = load_img(\"/content/data/Dataset/COVID PATIENTS/covid_13.jpg\", target_size=(224, 224), grayscale=True)\n",
    "my_image = img_to_array(my_image)\n",
    "my_image = my_image.reshape(1, my_image.shape[0], my_image.shape[1], my_image.shape[2])\n",
    "Model.predict(my_image)"
   ]
  },
  {
   "cell_type": "markdown",
   "metadata": {
    "id": "Vr_YXNthWWCx"
   },
   "source": [
    "### Test on Normal IMAGE"
   ]
  },
  {
   "cell_type": "code",
   "execution_count": 14,
   "metadata": {
    "colab": {
     "base_uri": "https://localhost:8080/"
    },
    "id": "8ZN0ORKlKq3d",
    "outputId": "8d3c6918-0236-4644-d4b8-f3c16f79117e"
   },
   "outputs": [
    {
     "name": "stderr",
     "output_type": "stream",
     "text": [
      "/usr/local/lib/python3.7/dist-packages/keras_preprocessing/image/utils.py:107: UserWarning: grayscale is deprecated. Please use color_mode = \"grayscale\"\n",
      "  warnings.warn('grayscale is deprecated. Please use '\n"
     ]
    },
    {
     "data": {
      "text/plain": [
       "array([[1.]], dtype=float32)"
      ]
     },
     "execution_count": 14,
     "metadata": {},
     "output_type": "execute_result"
    }
   ],
   "source": [
    "my_image = load_img(\"/content/data/Dataset/NORMAL PATIENTS/normal_0.jpg\", target_size=(224, 224), grayscale=True)\n",
    "my_image = img_to_array(my_image)\n",
    "my_image = my_image.reshape(1, my_image.shape[0], my_image.shape[1], my_image.shape[2])\n",
    "Model.predict(my_image)"
   ]
  },
  {
   "cell_type": "code",
   "execution_count": null,
   "metadata": {
    "id": "crVIMwye0UTa"
   },
   "outputs": [],
   "source": []
  }
 ],
 "metadata": {
  "colab": {
   "collapsed_sections": [],
   "name": "X-rays Image Classification.ipynb",
   "provenance": []
  },
  "kernelspec": {
   "display_name": "Python 3 (ipykernel)",
   "language": "python",
   "name": "python3"
  },
  "language_info": {
   "codemirror_mode": {
    "name": "ipython",
    "version": 3
   },
   "file_extension": ".py",
   "mimetype": "text/x-python",
   "name": "python",
   "nbconvert_exporter": "python",
   "pygments_lexer": "ipython3",
   "version": "3.8.5"
  }
 },
 "nbformat": 4,
 "nbformat_minor": 1
}

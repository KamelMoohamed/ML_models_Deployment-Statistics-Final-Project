{
 "cells": [
  {
   "cell_type": "markdown",
   "metadata": {},
   "source": [
    "# X ray Image Classification (Model 1)\n",
    "\n",
    "## Table of Content\n",
    "<ul>\n",
    "    <li><a href=\"#dr\">Data Reading.</a></li>\n",
    "    <li><a href=\"#vgg\">Loading VGG16 Model.</a></li>\n",
    "    <li><a href=\"#dp\">Data Preprocessing.</a></li>\n",
    "    <li><a href=\"#fdl\">Freezed Model Training.</a></li>\n",
    "    <li><a href=\"#ufdl\">Unfreezed Model Training.</a></li>\n",
    "    <li><a href=\"#e\">Evaluation and Saving.</a></li>\n",
    "</ul>"
   ]
  },
  {
   "cell_type": "markdown",
   "metadata": {},
   "source": [
    "<a id=\"dr\"></a>\n",
    "## Data Reading"
   ]
  },
  {
   "cell_type": "code",
   "execution_count": 1,
   "metadata": {
    "colab": {
     "base_uri": "https://localhost:8080/"
    },
    "id": "QMc-uMCj2zCZ",
    "outputId": "c1bfb89d-c5fa-4bf7-99a7-1913ba44445b"
   },
   "outputs": [
    {
     "name": "stdout",
     "output_type": "stream",
     "text": [
      "Archive:  /content/train.zip\n",
      "   creating: data/train/\n",
      "   creating: data/train/COVID PATIENTS/\n",
      "  inflating: data/train/COVID PATIENTS/covid_0.jpg  \n",
      "  inflating: data/train/COVID PATIENTS/covid_1.jpg  \n",
      "  inflating: data/train/COVID PATIENTS/covid_10.jpg  \n",
      "  inflating: data/train/COVID PATIENTS/covid_100.jpg  \n",
      "  inflating: data/train/COVID PATIENTS/covid_101.jpg  \n",
      "  inflating: data/train/COVID PATIENTS/covid_102.jpg  \n",
      "  inflating: data/train/COVID PATIENTS/covid_103.jpg  \n",
      "  inflating: data/train/COVID PATIENTS/covid_104.jpg  \n",
      "  inflating: data/train/COVID PATIENTS/covid_105.jpg  \n",
      "  inflating: data/train/COVID PATIENTS/covid_106.jpg  \n",
      "  inflating: data/train/COVID PATIENTS/covid_107.jpg  \n",
      "  inflating: data/train/COVID PATIENTS/covid_108.jpg  \n",
      "  inflating: data/train/COVID PATIENTS/covid_109.jpg  \n",
      "  inflating: data/train/COVID PATIENTS/covid_11.jpg  \n",
      "  inflating: data/train/COVID PATIENTS/covid_110.jpg  \n",
      "  inflating: data/train/COVID PATIENTS/covid_111.jpg  \n",
      "  inflating: data/train/COVID PATIENTS/covid_112.jpg  \n",
      "  inflating: data/train/COVID PATIENTS/covid_113.jpg  \n",
      "  inflating: data/train/COVID PATIENTS/covid_114.jpg  \n",
      "  inflating: data/train/COVID PATIENTS/covid_115.jpg  \n",
      "  inflating: data/train/COVID PATIENTS/covid_116.jpg  \n",
      "  inflating: data/train/COVID PATIENTS/covid_117.jpg  \n",
      "  inflating: data/train/COVID PATIENTS/covid_118.jpg  \n",
      "  inflating: data/train/COVID PATIENTS/covid_119.jpg  \n",
      "  inflating: data/train/COVID PATIENTS/covid_12.jpg  \n",
      "  inflating: data/train/COVID PATIENTS/covid_120.jpg  \n",
      "  inflating: data/train/COVID PATIENTS/covid_121.jpg  \n",
      "  inflating: data/train/COVID PATIENTS/covid_122.jpg  \n",
      "  inflating: data/train/COVID PATIENTS/covid_123.jpg  \n",
      "  inflating: data/train/COVID PATIENTS/covid_124.jpg  \n",
      "  inflating: data/train/COVID PATIENTS/covid_125.jpg  \n",
      "  inflating: data/train/COVID PATIENTS/covid_126.jpg  \n",
      "  inflating: data/train/COVID PATIENTS/covid_127.jpg  \n",
      "  inflating: data/train/COVID PATIENTS/covid_128.jpg  \n",
      "  inflating: data/train/COVID PATIENTS/covid_129.jpg  \n",
      "  inflating: data/train/COVID PATIENTS/covid_13.jpg  \n",
      "  inflating: data/train/COVID PATIENTS/covid_130.jpg  \n",
      "  inflating: data/train/COVID PATIENTS/covid_131.jpg  \n",
      "  inflating: data/train/COVID PATIENTS/covid_132.jpg  \n",
      "  inflating: data/train/COVID PATIENTS/covid_133.jpg  \n",
      "  inflating: data/train/COVID PATIENTS/covid_134.jpg  \n",
      "  inflating: data/train/COVID PATIENTS/covid_135.jpg  \n",
      "  inflating: data/train/COVID PATIENTS/covid_136.jpg  \n",
      "  inflating: data/train/COVID PATIENTS/covid_137.jpg  \n",
      "  inflating: data/train/COVID PATIENTS/covid_138.jpg  \n",
      "  inflating: data/train/COVID PATIENTS/covid_139.jpg  \n",
      "  inflating: data/train/COVID PATIENTS/covid_14.jpg  \n",
      "  inflating: data/train/COVID PATIENTS/covid_140.jpg  \n",
      "  inflating: data/train/COVID PATIENTS/covid_141.jpg  \n",
      "  inflating: data/train/COVID PATIENTS/covid_142.jpg  \n",
      "  inflating: data/train/COVID PATIENTS/covid_143.jpg  \n",
      "  inflating: data/train/COVID PATIENTS/covid_144.jpg  \n",
      "  inflating: data/train/COVID PATIENTS/covid_145.jpg  \n",
      "  inflating: data/train/COVID PATIENTS/covid_146.jpg  \n",
      "  inflating: data/train/COVID PATIENTS/covid_147.jpg  \n",
      "  inflating: data/train/COVID PATIENTS/covid_148.jpg  \n",
      "  inflating: data/train/COVID PATIENTS/covid_149.jpg  \n",
      "  inflating: data/train/COVID PATIENTS/covid_15.jpg  \n",
      "  inflating: data/train/COVID PATIENTS/covid_150.jpg  \n",
      "  inflating: data/train/COVID PATIENTS/covid_151.jpg  \n",
      "  inflating: data/train/COVID PATIENTS/covid_152.jpg  \n",
      "  inflating: data/train/COVID PATIENTS/covid_153.jpg  \n",
      "  inflating: data/train/COVID PATIENTS/covid_154.jpg  \n",
      "  inflating: data/train/COVID PATIENTS/covid_155.jpg  \n",
      "  inflating: data/train/COVID PATIENTS/covid_156.jpg  \n",
      "  inflating: data/train/COVID PATIENTS/covid_157.jpg  \n",
      "  inflating: data/train/COVID PATIENTS/covid_158.jpg  \n",
      "  inflating: data/train/COVID PATIENTS/covid_159.jpg  \n",
      "  inflating: data/train/COVID PATIENTS/covid_16.jpg  \n",
      "  inflating: data/train/COVID PATIENTS/covid_160.jpg  \n",
      "  inflating: data/train/COVID PATIENTS/covid_161.jpg  \n",
      "  inflating: data/train/COVID PATIENTS/covid_17.jpg  \n",
      "  inflating: data/train/COVID PATIENTS/covid_18.jpg  \n",
      "  inflating: data/train/COVID PATIENTS/covid_19.jpg  \n",
      "  inflating: data/train/COVID PATIENTS/covid_2.jpg  \n",
      "  inflating: data/train/COVID PATIENTS/covid_20.jpg  \n",
      "  inflating: data/train/COVID PATIENTS/covid_21.jpg  \n",
      "  inflating: data/train/COVID PATIENTS/covid_22.jpg  \n",
      "  inflating: data/train/COVID PATIENTS/covid_23.jpg  \n",
      "  inflating: data/train/COVID PATIENTS/covid_24.jpg  \n",
      "  inflating: data/train/COVID PATIENTS/covid_25.jpg  \n",
      "  inflating: data/train/COVID PATIENTS/covid_26.jpg  \n",
      "  inflating: data/train/COVID PATIENTS/covid_27.jpg  \n",
      "  inflating: data/train/COVID PATIENTS/covid_28.jpg  \n",
      "  inflating: data/train/COVID PATIENTS/covid_29.jpg  \n",
      "  inflating: data/train/COVID PATIENTS/covid_3.jpg  \n",
      "  inflating: data/train/COVID PATIENTS/covid_30.jpg  \n",
      "  inflating: data/train/COVID PATIENTS/covid_31.jpg  \n",
      "  inflating: data/train/COVID PATIENTS/covid_32.jpg  \n",
      "  inflating: data/train/COVID PATIENTS/covid_33.jpg  \n",
      "  inflating: data/train/COVID PATIENTS/covid_34.jpg  \n",
      "  inflating: data/train/COVID PATIENTS/covid_35.jpg  \n",
      "  inflating: data/train/COVID PATIENTS/covid_36.jpg  \n",
      "  inflating: data/train/COVID PATIENTS/covid_37.jpg  \n",
      "  inflating: data/train/COVID PATIENTS/covid_38.jpg  \n",
      "  inflating: data/train/COVID PATIENTS/covid_39.jpg  \n",
      "  inflating: data/train/COVID PATIENTS/covid_4.jpg  \n",
      "  inflating: data/train/COVID PATIENTS/covid_40.jpg  \n",
      "  inflating: data/train/COVID PATIENTS/covid_41.jpg  \n",
      "  inflating: data/train/COVID PATIENTS/covid_42.jpg  \n",
      "  inflating: data/train/COVID PATIENTS/covid_43.jpg  \n",
      "  inflating: data/train/COVID PATIENTS/covid_44.jpg  \n",
      "  inflating: data/train/COVID PATIENTS/covid_45.jpg  \n",
      "  inflating: data/train/COVID PATIENTS/covid_46.jpg  \n",
      "  inflating: data/train/COVID PATIENTS/covid_47.jpg  \n",
      "  inflating: data/train/COVID PATIENTS/covid_48.jpg  \n",
      "  inflating: data/train/COVID PATIENTS/covid_49.jpg  \n",
      "  inflating: data/train/COVID PATIENTS/covid_5.jpg  \n",
      "  inflating: data/train/COVID PATIENTS/covid_50.jpg  \n",
      "  inflating: data/train/COVID PATIENTS/covid_51.jpg  \n",
      "  inflating: data/train/COVID PATIENTS/covid_52.jpg  \n",
      "  inflating: data/train/COVID PATIENTS/covid_53.jpg  \n",
      "  inflating: data/train/COVID PATIENTS/covid_54.jpg  \n",
      "  inflating: data/train/COVID PATIENTS/covid_55.jpg  \n",
      "  inflating: data/train/COVID PATIENTS/covid_56.jpg  \n",
      "  inflating: data/train/COVID PATIENTS/covid_57.jpg  \n",
      "  inflating: data/train/COVID PATIENTS/covid_58.jpg  \n",
      "  inflating: data/train/COVID PATIENTS/covid_59.jpg  \n",
      "  inflating: data/train/COVID PATIENTS/covid_6.jpg  \n",
      "  inflating: data/train/COVID PATIENTS/covid_60.jpg  \n",
      "  inflating: data/train/COVID PATIENTS/covid_61.jpg  \n",
      "  inflating: data/train/COVID PATIENTS/covid_62.jpg  \n",
      "  inflating: data/train/COVID PATIENTS/covid_63.jpg  \n",
      "  inflating: data/train/COVID PATIENTS/covid_64.jpg  \n",
      "  inflating: data/train/COVID PATIENTS/covid_65.jpg  \n",
      "  inflating: data/train/COVID PATIENTS/covid_66.jpg  \n",
      "  inflating: data/train/COVID PATIENTS/covid_67.jpg  \n",
      "  inflating: data/train/COVID PATIENTS/covid_68.jpg  \n",
      "  inflating: data/train/COVID PATIENTS/covid_69.jpg  \n",
      "  inflating: data/train/COVID PATIENTS/covid_7.jpg  \n",
      "  inflating: data/train/COVID PATIENTS/covid_70.jpg  \n",
      "  inflating: data/train/COVID PATIENTS/covid_71.jpg  \n",
      "  inflating: data/train/COVID PATIENTS/covid_72.jpg  \n",
      "  inflating: data/train/COVID PATIENTS/covid_73.jpg  \n",
      "  inflating: data/train/COVID PATIENTS/covid_74.jpg  \n",
      "  inflating: data/train/COVID PATIENTS/covid_75.jpg  \n",
      "  inflating: data/train/COVID PATIENTS/covid_76.jpg  \n",
      "  inflating: data/train/COVID PATIENTS/covid_77.jpg  \n",
      "  inflating: data/train/COVID PATIENTS/covid_78.jpg  \n",
      "  inflating: data/train/COVID PATIENTS/covid_79.jpg  \n",
      "  inflating: data/train/COVID PATIENTS/covid_8.jpg  \n",
      "  inflating: data/train/COVID PATIENTS/covid_80.jpg  \n",
      "  inflating: data/train/COVID PATIENTS/covid_81.jpg  \n",
      "  inflating: data/train/COVID PATIENTS/covid_82.jpg  \n",
      "  inflating: data/train/COVID PATIENTS/covid_83.jpg  \n",
      "  inflating: data/train/COVID PATIENTS/covid_84.jpg  \n",
      "  inflating: data/train/COVID PATIENTS/covid_85.jpg  \n",
      "  inflating: data/train/COVID PATIENTS/covid_86.jpg  \n",
      "  inflating: data/train/COVID PATIENTS/covid_87.jpg  \n",
      "  inflating: data/train/COVID PATIENTS/covid_88.jpg  \n",
      "  inflating: data/train/COVID PATIENTS/covid_89.jpg  \n",
      "  inflating: data/train/COVID PATIENTS/covid_9.jpg  \n",
      "  inflating: data/train/COVID PATIENTS/covid_90.jpg  \n",
      "  inflating: data/train/COVID PATIENTS/covid_91.jpg  \n",
      "  inflating: data/train/COVID PATIENTS/covid_92.jpg  \n",
      "  inflating: data/train/COVID PATIENTS/covid_93.jpg  \n",
      "  inflating: data/train/COVID PATIENTS/covid_94.jpg  \n",
      "  inflating: data/train/COVID PATIENTS/covid_95.jpg  \n",
      "  inflating: data/train/COVID PATIENTS/covid_96.jpg  \n",
      "  inflating: data/train/COVID PATIENTS/covid_97.jpg  \n",
      "  inflating: data/train/COVID PATIENTS/covid_98.jpg  \n",
      "  inflating: data/train/COVID PATIENTS/covid_99.jpg  \n",
      "   creating: data/train/NORMAL PATIENTS/\n",
      "  inflating: data/train/NORMAL PATIENTS/normal_0.jpg  \n",
      "  inflating: data/train/NORMAL PATIENTS/normal_1.jpg  \n",
      "  inflating: data/train/NORMAL PATIENTS/normal_10.jpg  \n",
      "  inflating: data/train/NORMAL PATIENTS/normal_100.jpg  \n",
      "  inflating: data/train/NORMAL PATIENTS/normal_101.jpg  \n",
      "  inflating: data/train/NORMAL PATIENTS/normal_102.jpg  \n",
      "  inflating: data/train/NORMAL PATIENTS/normal_103.jpg  \n",
      "  inflating: data/train/NORMAL PATIENTS/normal_104.jpg  \n",
      "  inflating: data/train/NORMAL PATIENTS/normal_105.jpg  \n",
      "  inflating: data/train/NORMAL PATIENTS/normal_106.jpg  \n",
      "  inflating: data/train/NORMAL PATIENTS/normal_107.jpg  \n",
      "  inflating: data/train/NORMAL PATIENTS/normal_108.jpg  \n",
      "  inflating: data/train/NORMAL PATIENTS/normal_109.jpg  \n",
      "  inflating: data/train/NORMAL PATIENTS/normal_11.jpg  \n",
      "  inflating: data/train/NORMAL PATIENTS/normal_110.jpg  \n",
      "  inflating: data/train/NORMAL PATIENTS/normal_111.jpg  \n",
      "  inflating: data/train/NORMAL PATIENTS/normal_112.jpg  \n",
      "  inflating: data/train/NORMAL PATIENTS/normal_113.jpg  \n",
      "  inflating: data/train/NORMAL PATIENTS/normal_114.jpg  \n",
      "  inflating: data/train/NORMAL PATIENTS/normal_115.jpg  \n",
      "  inflating: data/train/NORMAL PATIENTS/normal_116.jpg  \n",
      "  inflating: data/train/NORMAL PATIENTS/normal_117.jpg  \n",
      "  inflating: data/train/NORMAL PATIENTS/normal_118.jpg  \n",
      "  inflating: data/train/NORMAL PATIENTS/normal_119.jpg  \n",
      "  inflating: data/train/NORMAL PATIENTS/normal_12.jpg  \n",
      "  inflating: data/train/NORMAL PATIENTS/normal_120.jpg  \n",
      "  inflating: data/train/NORMAL PATIENTS/normal_121.jpg  \n",
      "  inflating: data/train/NORMAL PATIENTS/normal_122.jpg  \n",
      "  inflating: data/train/NORMAL PATIENTS/normal_123.jpg  \n",
      "  inflating: data/train/NORMAL PATIENTS/normal_124.jpg  \n",
      "  inflating: data/train/NORMAL PATIENTS/normal_125.jpg  \n",
      "  inflating: data/train/NORMAL PATIENTS/normal_126.jpg  \n",
      "  inflating: data/train/NORMAL PATIENTS/normal_127.jpg  \n",
      "  inflating: data/train/NORMAL PATIENTS/normal_128.jpg  \n",
      "  inflating: data/train/NORMAL PATIENTS/normal_129.jpg  \n",
      "  inflating: data/train/NORMAL PATIENTS/normal_13.jpg  \n",
      "  inflating: data/train/NORMAL PATIENTS/normal_130.jpg  \n",
      "  inflating: data/train/NORMAL PATIENTS/normal_131.jpg  \n",
      "  inflating: data/train/NORMAL PATIENTS/normal_132.jpg  \n",
      "  inflating: data/train/NORMAL PATIENTS/normal_133.jpg  \n",
      "  inflating: data/train/NORMAL PATIENTS/normal_134.jpg  \n",
      "  inflating: data/train/NORMAL PATIENTS/normal_135.jpg  \n",
      "  inflating: data/train/NORMAL PATIENTS/normal_136.jpg  \n",
      "  inflating: data/train/NORMAL PATIENTS/normal_137.jpg  \n",
      "  inflating: data/train/NORMAL PATIENTS/normal_138.jpg  \n",
      "  inflating: data/train/NORMAL PATIENTS/normal_139.jpg  \n",
      "  inflating: data/train/NORMAL PATIENTS/normal_14.jpg  \n",
      "  inflating: data/train/NORMAL PATIENTS/normal_140.jpg  \n",
      "  inflating: data/train/NORMAL PATIENTS/normal_141.jpg  \n",
      "  inflating: data/train/NORMAL PATIENTS/normal_142.jpg  \n",
      "  inflating: data/train/NORMAL PATIENTS/normal_143.jpg  \n",
      "  inflating: data/train/NORMAL PATIENTS/normal_144.jpg  \n",
      "  inflating: data/train/NORMAL PATIENTS/normal_145.jpg  \n",
      "  inflating: data/train/NORMAL PATIENTS/normal_146.jpg  \n",
      "  inflating: data/train/NORMAL PATIENTS/normal_147.jpg  \n",
      "  inflating: data/train/NORMAL PATIENTS/normal_148.jpg  \n",
      "  inflating: data/train/NORMAL PATIENTS/normal_149.jpg  \n",
      "  inflating: data/train/NORMAL PATIENTS/normal_15.jpg  \n",
      "  inflating: data/train/NORMAL PATIENTS/normal_150.jpg  \n",
      "  inflating: data/train/NORMAL PATIENTS/normal_151.jpg  \n",
      "  inflating: data/train/NORMAL PATIENTS/normal_152.jpg  \n",
      "  inflating: data/train/NORMAL PATIENTS/normal_153.jpg  \n",
      "  inflating: data/train/NORMAL PATIENTS/normal_154.jpg  \n",
      "  inflating: data/train/NORMAL PATIENTS/normal_155.jpg  \n",
      "  inflating: data/train/NORMAL PATIENTS/normal_156.jpg  \n",
      "  inflating: data/train/NORMAL PATIENTS/normal_157.jpg  \n",
      "  inflating: data/train/NORMAL PATIENTS/normal_158.jpg  \n",
      "  inflating: data/train/NORMAL PATIENTS/normal_159.jpg  \n",
      "  inflating: data/train/NORMAL PATIENTS/normal_16.jpg  \n",
      "  inflating: data/train/NORMAL PATIENTS/normal_160.jpg  \n",
      "  inflating: data/train/NORMAL PATIENTS/normal_161.jpg  \n",
      "  inflating: data/train/NORMAL PATIENTS/normal_17.jpg  \n",
      "  inflating: data/train/NORMAL PATIENTS/normal_18.jpg  \n",
      "  inflating: data/train/NORMAL PATIENTS/normal_19.jpg  \n",
      "  inflating: data/train/NORMAL PATIENTS/normal_2.jpg  \n",
      "  inflating: data/train/NORMAL PATIENTS/normal_20.jpg  \n",
      "  inflating: data/train/NORMAL PATIENTS/normal_21.jpg  \n",
      "  inflating: data/train/NORMAL PATIENTS/normal_22.jpg  \n",
      "  inflating: data/train/NORMAL PATIENTS/normal_23.jpg  \n",
      "  inflating: data/train/NORMAL PATIENTS/normal_24.jpg  \n",
      "  inflating: data/train/NORMAL PATIENTS/normal_25.jpg  \n",
      "  inflating: data/train/NORMAL PATIENTS/normal_26.jpg  \n",
      "  inflating: data/train/NORMAL PATIENTS/normal_27.jpg  \n",
      "  inflating: data/train/NORMAL PATIENTS/normal_28.jpg  \n",
      "  inflating: data/train/NORMAL PATIENTS/normal_29.jpg  \n",
      "  inflating: data/train/NORMAL PATIENTS/normal_3.jpg  \n",
      "  inflating: data/train/NORMAL PATIENTS/normal_30.jpg  \n",
      "  inflating: data/train/NORMAL PATIENTS/normal_31.jpg  \n",
      "  inflating: data/train/NORMAL PATIENTS/normal_32.jpg  \n",
      "  inflating: data/train/NORMAL PATIENTS/normal_33.jpg  \n",
      "  inflating: data/train/NORMAL PATIENTS/normal_34.jpg  \n",
      "  inflating: data/train/NORMAL PATIENTS/normal_35.jpg  \n",
      "  inflating: data/train/NORMAL PATIENTS/normal_36.jpg  \n",
      "  inflating: data/train/NORMAL PATIENTS/normal_37.jpg  \n",
      "  inflating: data/train/NORMAL PATIENTS/normal_38.jpg  \n",
      "  inflating: data/train/NORMAL PATIENTS/normal_39.jpg  \n",
      "  inflating: data/train/NORMAL PATIENTS/normal_4.jpg  \n",
      "  inflating: data/train/NORMAL PATIENTS/normal_40.jpg  \n",
      "  inflating: data/train/NORMAL PATIENTS/normal_41.jpg  \n",
      "  inflating: data/train/NORMAL PATIENTS/normal_42.jpg  \n",
      "  inflating: data/train/NORMAL PATIENTS/normal_43.jpg  \n",
      "  inflating: data/train/NORMAL PATIENTS/normal_44.jpg  \n",
      "  inflating: data/train/NORMAL PATIENTS/normal_45.jpg  \n",
      "  inflating: data/train/NORMAL PATIENTS/normal_46.jpg  \n",
      "  inflating: data/train/NORMAL PATIENTS/normal_47.jpg  \n",
      "  inflating: data/train/NORMAL PATIENTS/normal_48.jpg  \n",
      "  inflating: data/train/NORMAL PATIENTS/normal_49.jpg  \n",
      "  inflating: data/train/NORMAL PATIENTS/normal_5.jpg  \n",
      "  inflating: data/train/NORMAL PATIENTS/normal_50.jpg  \n",
      "  inflating: data/train/NORMAL PATIENTS/normal_51.jpg  \n",
      "  inflating: data/train/NORMAL PATIENTS/normal_52.jpg  \n",
      "  inflating: data/train/NORMAL PATIENTS/normal_53.jpg  \n",
      "  inflating: data/train/NORMAL PATIENTS/normal_54.jpg  \n",
      "  inflating: data/train/NORMAL PATIENTS/normal_55.jpg  \n",
      "  inflating: data/train/NORMAL PATIENTS/normal_56.jpg  \n",
      "  inflating: data/train/NORMAL PATIENTS/normal_57.jpg  \n",
      "  inflating: data/train/NORMAL PATIENTS/normal_58.jpg  \n",
      "  inflating: data/train/NORMAL PATIENTS/normal_59.jpg  \n",
      "  inflating: data/train/NORMAL PATIENTS/normal_6.jpg  \n",
      "  inflating: data/train/NORMAL PATIENTS/normal_60.jpg  \n",
      "  inflating: data/train/NORMAL PATIENTS/normal_61.jpg  \n",
      "  inflating: data/train/NORMAL PATIENTS/normal_62.jpg  \n",
      "  inflating: data/train/NORMAL PATIENTS/normal_63.jpg  \n",
      "  inflating: data/train/NORMAL PATIENTS/normal_64.jpg  \n",
      "  inflating: data/train/NORMAL PATIENTS/normal_65.jpg  \n",
      "  inflating: data/train/NORMAL PATIENTS/normal_66.jpg  \n",
      "  inflating: data/train/NORMAL PATIENTS/normal_67.jpg  \n",
      "  inflating: data/train/NORMAL PATIENTS/normal_68.jpg  \n",
      "  inflating: data/train/NORMAL PATIENTS/normal_69.jpg  \n",
      "  inflating: data/train/NORMAL PATIENTS/normal_7.jpg  \n",
      "  inflating: data/train/NORMAL PATIENTS/normal_70.jpg  \n",
      "  inflating: data/train/NORMAL PATIENTS/normal_71.jpg  \n",
      "  inflating: data/train/NORMAL PATIENTS/normal_72.jpg  \n",
      "  inflating: data/train/NORMAL PATIENTS/normal_73.jpg  \n",
      "  inflating: data/train/NORMAL PATIENTS/normal_74.jpg  \n",
      "  inflating: data/train/NORMAL PATIENTS/normal_75.jpg  \n",
      "  inflating: data/train/NORMAL PATIENTS/normal_76.jpg  \n",
      "  inflating: data/train/NORMAL PATIENTS/normal_77.jpg  \n",
      "  inflating: data/train/NORMAL PATIENTS/normal_78.jpg  \n",
      "  inflating: data/train/NORMAL PATIENTS/normal_79.jpg  \n",
      "  inflating: data/train/NORMAL PATIENTS/normal_8.jpg  \n",
      "  inflating: data/train/NORMAL PATIENTS/normal_80.jpg  \n",
      "  inflating: data/train/NORMAL PATIENTS/normal_81.jpg  \n",
      "  inflating: data/train/NORMAL PATIENTS/normal_82.jpg  \n",
      "  inflating: data/train/NORMAL PATIENTS/normal_83.jpg  \n",
      "  inflating: data/train/NORMAL PATIENTS/normal_84.jpg  \n",
      "  inflating: data/train/NORMAL PATIENTS/normal_85.jpg  \n",
      "  inflating: data/train/NORMAL PATIENTS/normal_86.jpg  \n",
      "  inflating: data/train/NORMAL PATIENTS/normal_87.jpg  \n",
      "  inflating: data/train/NORMAL PATIENTS/normal_88.jpg  \n",
      "  inflating: data/train/NORMAL PATIENTS/normal_89.jpg  \n",
      "  inflating: data/train/NORMAL PATIENTS/normal_9.jpg  \n",
      "  inflating: data/train/NORMAL PATIENTS/normal_90.jpg  \n",
      "  inflating: data/train/NORMAL PATIENTS/normal_91.jpg  \n",
      "  inflating: data/train/NORMAL PATIENTS/normal_92.jpg  \n",
      "  inflating: data/train/NORMAL PATIENTS/normal_93.jpg  \n",
      "  inflating: data/train/NORMAL PATIENTS/normal_94.jpg  \n",
      "  inflating: data/train/NORMAL PATIENTS/normal_95.jpg  \n",
      "  inflating: data/train/NORMAL PATIENTS/normal_96.jpg  \n",
      "  inflating: data/train/NORMAL PATIENTS/normal_97.jpg  \n",
      "  inflating: data/train/NORMAL PATIENTS/normal_98.jpg  \n",
      "  inflating: data/train/NORMAL PATIENTS/normal_99.jpg  \n"
     ]
    }
   ],
   "source": [
    "! mkdir data\n",
    "! unzip /content/train.zip -d data"
   ]
  },
  {
   "cell_type": "markdown",
   "metadata": {},
   "source": [
    "<a id=\"vgg\"></a>\n",
    "\n",
    "## Loading VGG16 Model."
   ]
  },
  {
   "cell_type": "code",
   "execution_count": 2,
   "metadata": {
    "colab": {
     "base_uri": "https://localhost:8080/"
    },
    "id": "ykwJtZm2veQc",
    "outputId": "b5bf266d-e03f-4701-fdec-50487ad4712d"
   },
   "outputs": [
    {
     "name": "stdout",
     "output_type": "stream",
     "text": [
      "Downloading data from https://storage.googleapis.com/tensorflow/keras-applications/vgg16/vgg16_weights_tf_dim_ordering_tf_kernels_notop.h5\n",
      "58892288/58889256 [==============================] - 1s 0us/step\n",
      "58900480/58889256 [==============================] - 1s 0us/step\n"
     ]
    }
   ],
   "source": [
    "from tensorflow import keras\n",
    "\n",
    "base_model = keras.applications.VGG16(\n",
    "    weights=\"imagenet\",\n",
    "    input_shape=(224, 224, 3),\n",
    "    include_top=False)"
   ]
  },
  {
   "cell_type": "code",
   "execution_count": 3,
   "metadata": {
    "id": "Xj7WzBWuwJFN"
   },
   "outputs": [],
   "source": [
    "# Freeze base model\n",
    "base_model.trainable = False"
   ]
  },
  {
   "cell_type": "code",
   "execution_count": 4,
   "metadata": {
    "id": "Zz_wGh3Aw0JT"
   },
   "outputs": [],
   "source": [
    "inputs = keras.Input(shape=(224, 224, 3))\n",
    "\n",
    "x = base_model(inputs, training=False)\n",
    "x = keras.layers.GlobalAveragePooling2D()(x)\n",
    "\n",
    "# A Dense classifier with a single unit (binary classification)\n",
    "outputs = keras.layers.Dense(2, activation = 'softmax')(x)\n",
    "model = keras.Model(inputs, outputs)"
   ]
  },
  {
   "cell_type": "code",
   "execution_count": 5,
   "metadata": {
    "colab": {
     "base_uri": "https://localhost:8080/"
    },
    "id": "BO4lid8Lw4FI",
    "outputId": "70f5ea2b-7833-413f-ce8c-955fecdc56ec"
   },
   "outputs": [
    {
     "name": "stdout",
     "output_type": "stream",
     "text": [
      "Model: \"model\"\n",
      "_________________________________________________________________\n",
      " Layer (type)                Output Shape              Param #   \n",
      "=================================================================\n",
      " input_2 (InputLayer)        [(None, 224, 224, 3)]     0         \n",
      "                                                                 \n",
      " vgg16 (Functional)          (None, 7, 7, 512)         14714688  \n",
      "                                                                 \n",
      " global_average_pooling2d (G  (None, 512)              0         \n",
      " lobalAveragePooling2D)                                          \n",
      "                                                                 \n",
      " dense (Dense)               (None, 2)                 1026      \n",
      "                                                                 \n",
      "=================================================================\n",
      "Total params: 14,715,714\n",
      "Trainable params: 1,026\n",
      "Non-trainable params: 14,714,688\n",
      "_________________________________________________________________\n"
     ]
    }
   ],
   "source": [
    "model.summary()"
   ]
  },
  {
   "cell_type": "code",
   "execution_count": 6,
   "metadata": {
    "id": "3-o5xIYew5-y"
   },
   "outputs": [],
   "source": [
    "model.compile(loss='categorical_crossentropy',\n",
    "                  metrics=['accuracy'])"
   ]
  },
  {
   "cell_type": "markdown",
   "metadata": {},
   "source": [
    "<a id=\"dp\"></a>\n",
    "## Data Pre-processing"
   ]
  },
  {
   "cell_type": "code",
   "execution_count": 7,
   "metadata": {
    "id": "LOpCFdtPw8dl"
   },
   "outputs": [],
   "source": [
    "from tensorflow.keras.preprocessing.image import ImageDataGenerator\n",
    "\n",
    "transformation_ratio = 0.05\n",
    "# Create a data generator\n",
    "\n",
    "image_generator = ImageDataGenerator(\n",
    "                              rescale=1. / 255,\n",
    "                             validation_split = 0.2,\n",
    "                             rotation_range=transformation_ratio,\n",
    "                             shear_range=transformation_ratio,\n",
    "                             zoom_range=transformation_ratio,\n",
    "                             cval=transformation_ratio,\n",
    "                             horizontal_flip=True,\n",
    "                             vertical_flip=True)"
   ]
  },
  {
   "cell_type": "code",
   "execution_count": 8,
   "metadata": {
    "colab": {
     "base_uri": "https://localhost:8080/"
    },
    "id": "aZaVbAXEw_Ja",
    "outputId": "6c22195c-d714-4006-99a9-9afcde2c7ab2"
   },
   "outputs": [
    {
     "name": "stdout",
     "output_type": "stream",
     "text": [
      "Found 260 images belonging to 2 classes.\n",
      "Found 64 images belonging to 2 classes.\n"
     ]
    }
   ],
   "source": [
    "# load and iterate training dataset\n",
    "train = image_generator.flow_from_directory(\n",
    "    \"/content/data/train\",\n",
    "    target_size=(224, 224),\n",
    "    color_mode=\"rgb\",\n",
    "    class_mode=\"categorical\",\n",
    "    subset='training'\n",
    ")\n",
    "\n",
    "valid = image_generator.flow_from_directory(\n",
    "    \"/content/data/train\",\n",
    "    target_size=(224, 224),\n",
    "    color_mode=\"rgb\",\n",
    "    class_mode=\"categorical\",\n",
    "    subset='validation'\n",
    ")"
   ]
  },
  {
   "cell_type": "markdown",
   "metadata": {},
   "source": [
    "<a id=\"fdl\"></a>\n",
    "## Freezed Model Training"
   ]
  },
  {
   "cell_type": "code",
   "execution_count": 9,
   "metadata": {
    "colab": {
     "base_uri": "https://localhost:8080/"
    },
    "id": "q65UKOBs2yCR",
    "outputId": "6e8bd04c-b032-4057-d97e-7825d3c2ce4a"
   },
   "outputs": [
    {
     "name": "stdout",
     "output_type": "stream",
     "text": [
      "Epoch 1/25\n",
      "8/8 [==============================] - 172s 22s/step - loss: 0.7153 - accuracy: 0.4962 - val_loss: 0.6947 - val_accuracy: 0.5781\n",
      "Epoch 2/25\n",
      "8/8 [==============================] - 167s 21s/step - loss: 0.6843 - accuracy: 0.5962 - val_loss: 0.6861 - val_accuracy: 0.5156\n",
      "Epoch 3/25\n",
      "8/8 [==============================] - 168s 21s/step - loss: 0.6797 - accuracy: 0.6077 - val_loss: 0.6809 - val_accuracy: 0.5469\n",
      "Epoch 4/25\n",
      "8/8 [==============================] - 167s 21s/step - loss: 0.6677 - accuracy: 0.6115 - val_loss: 0.6638 - val_accuracy: 0.6250\n",
      "Epoch 5/25\n",
      "8/8 [==============================] - 165s 21s/step - loss: 0.6540 - accuracy: 0.7154 - val_loss: 0.6566 - val_accuracy: 0.7500\n",
      "Epoch 6/25\n",
      "8/8 [==============================] - 165s 21s/step - loss: 0.6427 - accuracy: 0.7538 - val_loss: 0.6499 - val_accuracy: 0.7031\n",
      "Epoch 7/25\n",
      "8/8 [==============================] - 166s 21s/step - loss: 0.6312 - accuracy: 0.7231 - val_loss: 0.6378 - val_accuracy: 0.6875\n",
      "Epoch 8/25\n",
      "8/8 [==============================] - 168s 21s/step - loss: 0.6203 - accuracy: 0.7731 - val_loss: 0.6278 - val_accuracy: 0.6562\n",
      "Epoch 9/25\n",
      "8/8 [==============================] - 166s 21s/step - loss: 0.6137 - accuracy: 0.7769 - val_loss: 0.6214 - val_accuracy: 0.7188\n",
      "Epoch 10/25\n",
      "8/8 [==============================] - 166s 21s/step - loss: 0.6038 - accuracy: 0.7731 - val_loss: 0.6203 - val_accuracy: 0.7188\n",
      "Epoch 11/25\n",
      "8/8 [==============================] - 166s 21s/step - loss: 0.5898 - accuracy: 0.8115 - val_loss: 0.6246 - val_accuracy: 0.6562\n",
      "Epoch 12/25\n",
      "8/8 [==============================] - 168s 23s/step - loss: 0.5851 - accuracy: 0.8077 - val_loss: 0.6017 - val_accuracy: 0.6875\n",
      "Epoch 13/25\n",
      "8/8 [==============================] - 166s 21s/step - loss: 0.5867 - accuracy: 0.8000 - val_loss: 0.5997 - val_accuracy: 0.7188\n",
      "Epoch 14/25\n",
      "8/8 [==============================] - 164s 21s/step - loss: 0.5757 - accuracy: 0.8154 - val_loss: 0.5925 - val_accuracy: 0.7500\n",
      "Epoch 15/25\n",
      "8/8 [==============================] - 165s 21s/step - loss: 0.5772 - accuracy: 0.7731 - val_loss: 0.5901 - val_accuracy: 0.7188\n",
      "Epoch 16/25\n",
      "8/8 [==============================] - 166s 21s/step - loss: 0.5600 - accuracy: 0.8000 - val_loss: 0.5777 - val_accuracy: 0.7969\n",
      "Epoch 17/25\n",
      "8/8 [==============================] - 167s 21s/step - loss: 0.5514 - accuracy: 0.8385 - val_loss: 0.5724 - val_accuracy: 0.7656\n",
      "Epoch 18/25\n",
      "8/8 [==============================] - 170s 23s/step - loss: 0.5431 - accuracy: 0.8346 - val_loss: 0.5721 - val_accuracy: 0.7344\n",
      "Epoch 19/25\n",
      "8/8 [==============================] - 166s 21s/step - loss: 0.5385 - accuracy: 0.8231 - val_loss: 0.5875 - val_accuracy: 0.7344\n",
      "Epoch 20/25\n",
      "8/8 [==============================] - 166s 21s/step - loss: 0.5357 - accuracy: 0.8462 - val_loss: 0.5856 - val_accuracy: 0.6875\n",
      "Epoch 21/25\n",
      "8/8 [==============================] - 165s 21s/step - loss: 0.5322 - accuracy: 0.8000 - val_loss: 0.5664 - val_accuracy: 0.7031\n",
      "Epoch 22/25\n",
      "8/8 [==============================] - 164s 21s/step - loss: 0.5327 - accuracy: 0.8115 - val_loss: 0.5567 - val_accuracy: 0.7812\n",
      "Epoch 23/25\n",
      "8/8 [==============================] - 165s 21s/step - loss: 0.5170 - accuracy: 0.8577 - val_loss: 0.5612 - val_accuracy: 0.7031\n",
      "Epoch 24/25\n",
      "8/8 [==============================] - 165s 21s/step - loss: 0.5191 - accuracy: 0.8308 - val_loss: 0.5526 - val_accuracy: 0.7656\n",
      "Epoch 25/25\n",
      "8/8 [==============================] - 165s 21s/step - loss: 0.5197 - accuracy: 0.8346 - val_loss: 0.5574 - val_accuracy: 0.7500\n"
     ]
    },
    {
     "data": {
      "text/plain": [
       "<keras.callbacks.History at 0x7fa0fe95c350>"
      ]
     },
     "execution_count": 9,
     "metadata": {},
     "output_type": "execute_result"
    }
   ],
   "source": [
    "model.fit(train,\n",
    "          validation_data=valid,\n",
    "          steps_per_epoch=train.samples/train.batch_size,\n",
    "          validation_steps=valid.samples/valid.batch_size,\n",
    "          epochs=25)"
   ]
  },
  {
   "cell_type": "code",
   "execution_count": 10,
   "metadata": {
    "id": "hlhVJup95Ixq"
   },
   "outputs": [],
   "source": [
    "# Unfreeze the base model\n",
    "base_model.trainable = True\n",
    "\n",
    "# Compile the model with a low learning rate\n",
    "model.compile(optimizer=keras.optimizers.RMSprop(learning_rate = .00001),\n",
    "              loss = keras.losses.BinaryCrossentropy(from_logits=True) ,\n",
    "              metrics = [keras.metrics.BinaryAccuracy()])"
   ]
  },
  {
   "cell_type": "markdown",
   "metadata": {},
   "source": [
    "<a id=\"ufdl\"></a>\n",
    "## Unfreezed Model Training"
   ]
  },
  {
   "cell_type": "code",
   "execution_count": 11,
   "metadata": {
    "colab": {
     "base_uri": "https://localhost:8080/"
    },
    "id": "oQ5lwgU15xj4",
    "outputId": "4c26278a-86d6-4b31-aebb-7af7af628d6f"
   },
   "outputs": [
    {
     "metadata": {
      "tags": null
     },
     "name": "stdout",
     "output_type": "stream",
     "text": [
      "Epoch 1/10\n"
     ]
    },
    {
     "metadata": {
      "tags": null
     },
     "name": "stderr",
     "output_type": "stream",
     "text": [
      "/usr/local/lib/python3.7/dist-packages/tensorflow/python/util/dispatch.py:1082: UserWarning: \"`binary_crossentropy` received `from_logits=True`, but the `output` argument was produced by a sigmoid or softmax activation and thus does not represent logits. Was this intended?\"\n",
      "  return dispatch_target(*args, **kwargs)\n"
     ]
    },
    {
     "name": "stdout",
     "output_type": "stream",
     "text": [
      "8/8 [==============================] - 519s 64s/step - loss: 0.5998 - binary_accuracy: 0.6923 - val_loss: 0.5755 - val_binary_accuracy: 0.6875\n",
      "Epoch 2/10\n",
      "8/8 [==============================] - 517s 64s/step - loss: 0.4862 - binary_accuracy: 0.7962 - val_loss: 0.5386 - val_binary_accuracy: 0.6406\n",
      "Epoch 3/10\n",
      "8/8 [==============================] - 516s 71s/step - loss: 0.4231 - binary_accuracy: 0.8038 - val_loss: 0.4380 - val_binary_accuracy: 0.7969\n",
      "Epoch 4/10\n",
      "8/8 [==============================] - 519s 64s/step - loss: 0.3896 - binary_accuracy: 0.8423 - val_loss: 0.3818 - val_binary_accuracy: 0.8438\n",
      "Epoch 5/10\n",
      "8/8 [==============================] - 522s 72s/step - loss: 0.3483 - binary_accuracy: 0.8654 - val_loss: 0.3584 - val_binary_accuracy: 0.8281\n",
      "Epoch 6/10\n",
      "8/8 [==============================] - 524s 65s/step - loss: 0.2925 - binary_accuracy: 0.8846 - val_loss: 0.6788 - val_binary_accuracy: 0.6406\n",
      "Epoch 7/10\n",
      "8/8 [==============================] - 513s 64s/step - loss: 0.3651 - binary_accuracy: 0.8115 - val_loss: 0.3359 - val_binary_accuracy: 0.8750\n",
      "Epoch 8/10\n",
      "8/8 [==============================] - 521s 65s/step - loss: 0.3029 - binary_accuracy: 0.8885 - val_loss: 0.3552 - val_binary_accuracy: 0.8438\n",
      "Epoch 9/10\n",
      "8/8 [==============================] - 521s 65s/step - loss: 0.3382 - binary_accuracy: 0.8538 - val_loss: 0.3505 - val_binary_accuracy: 0.8281\n",
      "Epoch 10/10\n",
      "8/8 [==============================] - 520s 64s/step - loss: 0.2340 - binary_accuracy: 0.9154 - val_loss: 0.2993 - val_binary_accuracy: 0.9062\n"
     ]
    },
    {
     "data": {
      "text/plain": [
       "<keras.callbacks.History at 0x7fa0fc88ae90>"
      ]
     },
     "execution_count": 11,
     "metadata": {},
     "output_type": "execute_result"
    }
   ],
   "source": [
    "model.fit(train,\n",
    "          validation_data=valid,\n",
    "          steps_per_epoch=train.samples/train.batch_size,\n",
    "          validation_steps=valid.samples/valid.batch_size,\n",
    "          epochs=10)"
   ]
  },
  {
   "cell_type": "markdown",
   "metadata": {},
   "source": [
    "<a id=\"e\"></a>\n",
    "## Evaluation and Testing"
   ]
  },
  {
   "cell_type": "code",
   "execution_count": 12,
   "metadata": {
    "colab": {
     "base_uri": "https://localhost:8080/"
    },
    "id": "ZaT9E2kf5zvM",
    "outputId": "9e34da0f-0aff-4798-e2a0-c65b594a444d"
   },
   "outputs": [
    {
     "name": "stdout",
     "output_type": "stream",
     "text": [
      "2/2 [==============================] - 33s 16s/step - loss: 0.2709 - binary_accuracy: 0.8906\n"
     ]
    },
    {
     "data": {
      "text/plain": [
       "[0.27089232206344604, 0.890625]"
      ]
     },
     "execution_count": 12,
     "metadata": {},
     "output_type": "execute_result"
    }
   ],
   "source": [
    "model.evaluate(valid, steps=valid.samples/valid.batch_size)"
   ]
  },
  {
   "cell_type": "code",
   "execution_count": 13,
   "metadata": {
    "colab": {
     "base_uri": "https://localhost:8080/"
    },
    "id": "2RdT5gI557XA",
    "outputId": "cf5d80e7-ab21-4948-e433-613d35f0826b"
   },
   "outputs": [
    {
     "name": "stdout",
     "output_type": "stream",
     "text": [
      "INFO:tensorflow:Assets written to: model_v1/assets\n"
     ]
    }
   ],
   "source": [
    "model.save(\"model_v1\")"
   ]
  },
  {
   "cell_type": "code",
   "execution_count": null,
   "metadata": {
    "id": "hu9wvMnPf86z"
   },
   "outputs": [],
   "source": []
  }
 ],
 "metadata": {
  "colab": {
   "name": "x_ray_classification.ipynb",
   "provenance": []
  },
  "kernelspec": {
   "display_name": "Python 3 (ipykernel)",
   "language": "python",
   "name": "python3"
  },
  "language_info": {
   "codemirror_mode": {
    "name": "ipython",
    "version": 3
   },
   "file_extension": ".py",
   "mimetype": "text/x-python",
   "name": "python",
   "nbconvert_exporter": "python",
   "pygments_lexer": "ipython3",
   "version": "3.8.5"
  }
 },
 "nbformat": 4,
 "nbformat_minor": 1
}

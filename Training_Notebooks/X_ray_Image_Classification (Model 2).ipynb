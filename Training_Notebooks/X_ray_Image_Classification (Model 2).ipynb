{
 "cells": [
  {
   "cell_type": "markdown",
   "metadata": {},
   "source": [
    "# X ray Image Classification (Model 2)\n",
    "\n",
    "## Table of content\n",
    "<ul>\n",
    "    <li><a href=\"#dr\">Data Reading.</a></li>\n",
    "    <li><a href=\"#i\">Import Packages.</a></li>\n",
    "    <li><a href=\"#dp\">Data Pre-processing.</a></li>\n",
    "    <li><a href=\"#dl\">Deep Learning Model.</a></li>\n",
    "    <li><a href=\"#s\">Model Saving.</a></li>\n",
    "    <li><a href=\"#mt\">Model Testing.</a></li>\n",
    "    </ul>"
   ]
  },
  {
   "cell_type": "markdown",
   "metadata": {},
   "source": [
    "<a id=\"dr\"></a>\n",
    "## Data Reading"
   ]
  },
  {
   "cell_type": "code",
   "execution_count": null,
   "metadata": {
    "colab": {
     "base_uri": "https://localhost:8080/"
    },
    "id": "QMc-uMCj2zCZ",
    "outputId": "4e218e60-7b65-4951-f1ff-8470404655aa"
   },
   "outputs": [],
   "source": [
    "! mkdir data\n",
    "! unzip /content/Dataset.zip -d data"
   ]
  },
  {
   "cell_type": "markdown",
   "metadata": {},
   "source": [
    "<a id=\"i\"></a>\n",
    "## Import Packages"
   ]
  },
  {
   "cell_type": "code",
   "execution_count": 1,
   "metadata": {
    "id": "fc4BARWiI_z3"
   },
   "outputs": [],
   "source": [
    "from tensorflow import keras\n",
    "from tensorflow.keras.models import Sequential\n",
    "from tensorflow.keras.layers import Conv2D, MaxPooling2D, Flatten, Dense, Dropout\n",
    "from tensorflow.keras.metrics import AUC, TruePositives, TrueNegatives, FalsePositives, FalseNegatives\n",
    "from tensorflow.keras.preprocessing.image import ImageDataGenerator, load_img, img_to_array, array_to_img\n",
    "from keras.applications.vgg16 import preprocess_input\n",
    "from tensorflow.keras.optimizers import Adam\n",
    "from tensorflow.keras.regularizers import l2"
   ]
  },
  {
   "cell_type": "markdown",
   "metadata": {},
   "source": [
    "<a id=\"dp\"></a>\n",
    "## Data Pre-processing"
   ]
  },
  {
   "cell_type": "code",
   "execution_count": 2,
   "metadata": {
    "id": "ykwJtZm2veQc"
   },
   "outputs": [],
   "source": [
    "# Create a data generator                             \n",
    "train_datagen = ImageDataGenerator(rotation_range=10,\n",
    "                                   validation_split = 0.2,\n",
    "                                       rescale=1./255,\n",
    "                              horizontal_flip=True)"
   ]
  },
  {
   "cell_type": "code",
   "execution_count": 3,
   "metadata": {
    "colab": {
     "base_uri": "https://localhost:8080/"
    },
    "id": "Xj7WzBWuwJFN",
    "outputId": "e3b6ff96-fad3-4b87-aae8-2f118473384a"
   },
   "outputs": [
    {
     "name": "stdout",
     "output_type": "stream",
     "text": [
      "Found 260 images belonging to 2 classes.\n",
      "Found 64 images belonging to 2 classes.\n"
     ]
    }
   ],
   "source": [
    "# load and iterate training dataset\n",
    "train = train_datagen.flow_from_directory(\n",
    "    r\"content\\Dataset\",\n",
    "    target_size=(224, 224),\n",
    "    class_mode='binary',\n",
    "    color_mode = 'grayscale',\n",
    "    batch_size=16,\n",
    "    subset='training'\n",
    ")\n",
    "\n",
    "valid =train_datagen.flow_from_directory(\n",
    "    r\"content\\Dataset\",\n",
    "    target_size=(224, 224),\n",
    "    class_mode='binary',\n",
    "    color_mode = 'grayscale',\n",
    "    batch_size=16,\n",
    "    subset='validation'\n",
    ")"
   ]
  },
  {
   "cell_type": "markdown",
   "metadata": {},
   "source": [
    "<a id=\"dl\"></a>\n",
    "## Deep Learning Model"
   ]
  },
  {
   "cell_type": "code",
   "execution_count": 4,
   "metadata": {
    "id": "Zz_wGh3Aw0JT"
   },
   "outputs": [],
   "source": [
    "Model = keras.models.Sequential()\n",
    "\n",
    "Model.add(keras.layers.Input((224, 224, 1)))\n",
    "Model.add(keras.layers.Conv2D(200,kernel_size=(3,3),activation='relu'))\n",
    "Model.add(keras.layers.MaxPool2D(4,4))\n",
    "Model.add(keras.layers.Conv2D(120,kernel_size=(3,3),activation='relu')) \n",
    "Model.add(keras.layers.Conv2D(50,kernel_size=(3,3),activation='relu'))\n",
    "Model.add(keras.layers.MaxPool2D(4,4))\n",
    "Model.add(keras.layers.Flatten())\n",
    "Model.add(keras.layers.Dense(120,activation='relu'))\n",
    "Model.add(keras.layers.Dense(50,activation='relu'))  \n",
    "Model.add(keras.layers.Dropout(rate=0.5))\n",
    "Model.add(keras.layers.Dense(1,activation='sigmoid'))"
   ]
  },
  {
   "cell_type": "code",
   "execution_count": 5,
   "metadata": {
    "id": "qSmgpdVYV3GK"
   },
   "outputs": [],
   "source": [
    "epochs = 100\n",
    "lr = 1e-4\n",
    "\n",
    "Model.compile(optimizer=Adam(learning_rate=lr), loss='binary_crossentropy', metrics='accuracy')"
   ]
  },
  {
   "cell_type": "code",
   "execution_count": 6,
   "metadata": {
    "colab": {
     "base_uri": "https://localhost:8080/"
    },
    "id": "BO4lid8Lw4FI",
    "outputId": "d0188e01-96af-4553-8f26-0bbf18a05183"
   },
   "outputs": [
    {
     "name": "stdout",
     "output_type": "stream",
     "text": [
      "Model: \"sequential\"\n",
      "_________________________________________________________________\n",
      " Layer (type)                Output Shape              Param #   \n",
      "=================================================================\n",
      " conv2d (Conv2D)             (None, 222, 222, 200)     2000      \n",
      "                                                                 \n",
      " max_pooling2d (MaxPooling2D  (None, 55, 55, 200)      0         \n",
      " )                                                               \n",
      "                                                                 \n",
      " conv2d_1 (Conv2D)           (None, 53, 53, 120)       216120    \n",
      "                                                                 \n",
      " conv2d_2 (Conv2D)           (None, 51, 51, 50)        54050     \n",
      "                                                                 \n",
      " max_pooling2d_1 (MaxPooling  (None, 12, 12, 50)       0         \n",
      " 2D)                                                             \n",
      "                                                                 \n",
      " flatten (Flatten)           (None, 7200)              0         \n",
      "                                                                 \n",
      " dense (Dense)               (None, 120)               864120    \n",
      "                                                                 \n",
      " dense_1 (Dense)             (None, 50)                6050      \n",
      "                                                                 \n",
      " dropout (Dropout)           (None, 50)                0         \n",
      "                                                                 \n",
      " dense_2 (Dense)             (None, 1)                 51        \n",
      "                                                                 \n",
      "=================================================================\n",
      "Total params: 1,142,391\n",
      "Trainable params: 1,142,391\n",
      "Non-trainable params: 0\n",
      "_________________________________________________________________\n"
     ]
    }
   ],
   "source": [
    "Model.summary()"
   ]
  },
  {
   "cell_type": "code",
   "execution_count": 7,
   "metadata": {
    "colab": {
     "base_uri": "https://localhost:8080/"
    },
    "id": "3-o5xIYew5-y",
    "outputId": "d64bb929-9a95-428b-894f-4b4b1eeb4a37"
   },
   "outputs": [
    {
     "name": "stdout",
     "output_type": "stream",
     "text": [
      "Epoch 1/100\n",
      "16/16 [==============================] - 6s 165ms/step - loss: 0.6956 - accuracy: 0.4885 - val_loss: 0.6916 - val_accuracy: 0.5156\n",
      "Epoch 2/100\n",
      "16/16 [==============================] - 2s 115ms/step - loss: 0.6890 - accuracy: 0.5654 - val_loss: 0.6878 - val_accuracy: 0.5000\n",
      "Epoch 3/100\n",
      "16/16 [==============================] - 2s 116ms/step - loss: 0.6830 - accuracy: 0.5692 - val_loss: 0.6759 - val_accuracy: 0.7188\n",
      "Epoch 4/100\n",
      "16/16 [==============================] - 2s 116ms/step - loss: 0.6737 - accuracy: 0.6115 - val_loss: 0.6579 - val_accuracy: 0.7188\n",
      "Epoch 5/100\n",
      "16/16 [==============================] - 2s 117ms/step - loss: 0.6377 - accuracy: 0.6538 - val_loss: 0.6398 - val_accuracy: 0.5312\n",
      "Epoch 6/100\n",
      "16/16 [==============================] - 2s 121ms/step - loss: 0.6039 - accuracy: 0.7346 - val_loss: 0.5543 - val_accuracy: 0.7969\n",
      "Epoch 7/100\n",
      "16/16 [==============================] - 2s 116ms/step - loss: 0.5002 - accuracy: 0.7885 - val_loss: 0.4809 - val_accuracy: 0.8125\n",
      "Epoch 8/100\n",
      "16/16 [==============================] - 2s 124ms/step - loss: 0.4309 - accuracy: 0.8077 - val_loss: 0.4309 - val_accuracy: 0.8125\n",
      "Epoch 9/100\n",
      "16/16 [==============================] - 2s 116ms/step - loss: 0.3775 - accuracy: 0.8346 - val_loss: 0.3835 - val_accuracy: 0.8438\n",
      "Epoch 10/100\n",
      "16/16 [==============================] - 2s 121ms/step - loss: 0.4354 - accuracy: 0.8038 - val_loss: 0.4511 - val_accuracy: 0.8125\n",
      "Epoch 11/100\n",
      "16/16 [==============================] - 2s 119ms/step - loss: 0.3770 - accuracy: 0.8423 - val_loss: 0.4005 - val_accuracy: 0.8594\n",
      "Epoch 12/100\n",
      "16/16 [==============================] - 2s 118ms/step - loss: 0.3506 - accuracy: 0.8500 - val_loss: 0.3947 - val_accuracy: 0.8438\n",
      "Epoch 13/100\n",
      "16/16 [==============================] - 2s 119ms/step - loss: 0.3233 - accuracy: 0.8577 - val_loss: 0.4518 - val_accuracy: 0.8125\n",
      "Epoch 14/100\n",
      "16/16 [==============================] - 2s 117ms/step - loss: 0.3441 - accuracy: 0.8615 - val_loss: 0.3793 - val_accuracy: 0.8594\n",
      "Epoch 15/100\n",
      "16/16 [==============================] - 2s 124ms/step - loss: 0.3330 - accuracy: 0.8731 - val_loss: 0.3835 - val_accuracy: 0.8438\n",
      "Epoch 16/100\n",
      "16/16 [==============================] - 2s 120ms/step - loss: 0.3470 - accuracy: 0.8538 - val_loss: 0.3525 - val_accuracy: 0.8750\n",
      "Epoch 17/100\n",
      "16/16 [==============================] - 2s 118ms/step - loss: 0.3090 - accuracy: 0.8808 - val_loss: 0.3394 - val_accuracy: 0.8594\n",
      "Epoch 18/100\n",
      "16/16 [==============================] - 2s 119ms/step - loss: 0.2937 - accuracy: 0.8885 - val_loss: 0.4753 - val_accuracy: 0.8281\n",
      "Epoch 19/100\n",
      "16/16 [==============================] - 2s 118ms/step - loss: 0.3001 - accuracy: 0.8846 - val_loss: 0.3692 - val_accuracy: 0.8594\n",
      "Epoch 20/100\n",
      "16/16 [==============================] - 2s 118ms/step - loss: 0.2902 - accuracy: 0.8885 - val_loss: 0.3524 - val_accuracy: 0.8594\n",
      "Epoch 21/100\n",
      "16/16 [==============================] - 2s 120ms/step - loss: 0.2632 - accuracy: 0.9038 - val_loss: 0.3543 - val_accuracy: 0.8594\n",
      "Epoch 22/100\n",
      "16/16 [==============================] - 2s 122ms/step - loss: 0.2456 - accuracy: 0.8885 - val_loss: 0.3598 - val_accuracy: 0.8750\n",
      "Epoch 23/100\n",
      "16/16 [==============================] - 2s 122ms/step - loss: 0.2404 - accuracy: 0.9038 - val_loss: 0.3555 - val_accuracy: 0.8594\n",
      "Epoch 24/100\n",
      "16/16 [==============================] - 2s 123ms/step - loss: 0.3015 - accuracy: 0.8769 - val_loss: 0.3833 - val_accuracy: 0.8594\n",
      "Epoch 25/100\n",
      "16/16 [==============================] - 2s 119ms/step - loss: 0.2632 - accuracy: 0.8923 - val_loss: 0.4409 - val_accuracy: 0.8594\n",
      "Epoch 26/100\n",
      "16/16 [==============================] - 2s 118ms/step - loss: 0.2829 - accuracy: 0.8885 - val_loss: 0.3225 - val_accuracy: 0.8906\n",
      "Epoch 27/100\n",
      "16/16 [==============================] - 2s 117ms/step - loss: 0.2256 - accuracy: 0.9115 - val_loss: 0.3355 - val_accuracy: 0.8750\n",
      "Epoch 28/100\n",
      "16/16 [==============================] - 2s 117ms/step - loss: 0.2370 - accuracy: 0.9000 - val_loss: 0.3625 - val_accuracy: 0.8594\n",
      "Epoch 29/100\n",
      "16/16 [==============================] - 2s 117ms/step - loss: 0.2459 - accuracy: 0.9000 - val_loss: 0.2947 - val_accuracy: 0.8750\n",
      "Epoch 30/100\n",
      "16/16 [==============================] - 2s 118ms/step - loss: 0.2508 - accuracy: 0.8962 - val_loss: 0.3388 - val_accuracy: 0.8594\n",
      "Epoch 31/100\n",
      "16/16 [==============================] - 2s 117ms/step - loss: 0.2141 - accuracy: 0.9115 - val_loss: 0.3605 - val_accuracy: 0.8594\n",
      "Epoch 32/100\n",
      "16/16 [==============================] - 2s 123ms/step - loss: 0.2187 - accuracy: 0.9038 - val_loss: 0.3020 - val_accuracy: 0.8438\n",
      "Epoch 33/100\n",
      "16/16 [==============================] - 2s 124ms/step - loss: 0.2295 - accuracy: 0.9231 - val_loss: 0.3298 - val_accuracy: 0.8750\n",
      "Epoch 34/100\n",
      "16/16 [==============================] - 2s 118ms/step - loss: 0.2286 - accuracy: 0.9192 - val_loss: 0.3035 - val_accuracy: 0.8906\n",
      "Epoch 35/100\n",
      "16/16 [==============================] - 2s 119ms/step - loss: 0.2131 - accuracy: 0.9269 - val_loss: 0.2991 - val_accuracy: 0.8594\n",
      "Epoch 36/100\n",
      "16/16 [==============================] - 2s 119ms/step - loss: 0.1821 - accuracy: 0.9462 - val_loss: 0.3500 - val_accuracy: 0.8594\n",
      "Epoch 37/100\n",
      "16/16 [==============================] - 2s 129ms/step - loss: 0.2513 - accuracy: 0.8885 - val_loss: 0.3402 - val_accuracy: 0.8750\n",
      "Epoch 38/100\n",
      "16/16 [==============================] - 2s 122ms/step - loss: 0.1782 - accuracy: 0.9269 - val_loss: 0.3664 - val_accuracy: 0.8594\n",
      "Epoch 39/100\n",
      "16/16 [==============================] - 2s 119ms/step - loss: 0.2119 - accuracy: 0.9115 - val_loss: 0.3362 - val_accuracy: 0.8750\n",
      "Epoch 40/100\n",
      "16/16 [==============================] - 2s 122ms/step - loss: 0.1869 - accuracy: 0.9346 - val_loss: 0.2749 - val_accuracy: 0.8750\n",
      "Epoch 41/100\n",
      "16/16 [==============================] - 2s 118ms/step - loss: 0.1983 - accuracy: 0.9308 - val_loss: 0.2663 - val_accuracy: 0.8906\n",
      "Epoch 42/100\n",
      "16/16 [==============================] - 2s 119ms/step - loss: 0.1939 - accuracy: 0.9231 - val_loss: 0.3917 - val_accuracy: 0.8594\n",
      "Epoch 43/100\n",
      "16/16 [==============================] - 2s 118ms/step - loss: 0.2020 - accuracy: 0.9038 - val_loss: 0.3050 - val_accuracy: 0.8906\n",
      "Epoch 44/100\n",
      "16/16 [==============================] - 2s 119ms/step - loss: 0.1570 - accuracy: 0.9385 - val_loss: 0.3108 - val_accuracy: 0.8750\n",
      "Epoch 45/100\n",
      "16/16 [==============================] - 2s 118ms/step - loss: 0.1703 - accuracy: 0.9423 - val_loss: 0.2651 - val_accuracy: 0.9062\n",
      "Epoch 46/100\n",
      "16/16 [==============================] - 2s 124ms/step - loss: 0.1844 - accuracy: 0.9308 - val_loss: 0.3077 - val_accuracy: 0.9062\n",
      "Epoch 47/100\n",
      "16/16 [==============================] - 2s 121ms/step - loss: 0.1507 - accuracy: 0.9423 - val_loss: 0.3256 - val_accuracy: 0.8906\n",
      "Epoch 48/100\n",
      "16/16 [==============================] - 2s 124ms/step - loss: 0.1783 - accuracy: 0.9346 - val_loss: 0.3114 - val_accuracy: 0.8750\n",
      "Epoch 49/100\n",
      "16/16 [==============================] - 2s 119ms/step - loss: 0.1619 - accuracy: 0.9462 - val_loss: 0.3083 - val_accuracy: 0.8750\n",
      "Epoch 50/100\n",
      "16/16 [==============================] - 2s 118ms/step - loss: 0.1476 - accuracy: 0.9423 - val_loss: 0.2712 - val_accuracy: 0.8906\n",
      "Epoch 51/100\n",
      "16/16 [==============================] - 2s 119ms/step - loss: 0.1518 - accuracy: 0.9269 - val_loss: 0.2400 - val_accuracy: 0.8906\n",
      "Epoch 52/100\n",
      "16/16 [==============================] - 2s 119ms/step - loss: 0.1317 - accuracy: 0.9423 - val_loss: 0.2457 - val_accuracy: 0.9062\n",
      "Epoch 53/100\n",
      "16/16 [==============================] - 2s 118ms/step - loss: 0.1302 - accuracy: 0.9385 - val_loss: 0.2592 - val_accuracy: 0.8750\n",
      "Epoch 54/100\n",
      "16/16 [==============================] - 2s 118ms/step - loss: 0.1125 - accuracy: 0.9500 - val_loss: 0.2846 - val_accuracy: 0.8906\n",
      "Epoch 55/100\n",
      "16/16 [==============================] - 2s 118ms/step - loss: 0.1474 - accuracy: 0.9385 - val_loss: 0.2602 - val_accuracy: 0.9062\n",
      "Epoch 56/100\n",
      "16/16 [==============================] - 2s 123ms/step - loss: 0.1217 - accuracy: 0.9577 - val_loss: 0.2475 - val_accuracy: 0.9219\n",
      "Epoch 57/100\n",
      "16/16 [==============================] - 2s 118ms/step - loss: 0.1402 - accuracy: 0.9462 - val_loss: 0.2438 - val_accuracy: 0.8906\n"
     ]
    },
    {
     "name": "stdout",
     "output_type": "stream",
     "text": [
      "Epoch 58/100\n",
      "16/16 [==============================] - 2s 119ms/step - loss: 0.1964 - accuracy: 0.9154 - val_loss: 0.2878 - val_accuracy: 0.8438\n",
      "Epoch 59/100\n",
      "16/16 [==============================] - 2s 118ms/step - loss: 0.1603 - accuracy: 0.9269 - val_loss: 0.2881 - val_accuracy: 0.8594\n",
      "Epoch 60/100\n",
      "16/16 [==============================] - 2s 129ms/step - loss: 0.1166 - accuracy: 0.9385 - val_loss: 0.2712 - val_accuracy: 0.9375\n",
      "Epoch 61/100\n",
      "16/16 [==============================] - 2s 121ms/step - loss: 0.1280 - accuracy: 0.9462 - val_loss: 0.2582 - val_accuracy: 0.8906\n",
      "Epoch 62/100\n",
      "16/16 [==============================] - 2s 117ms/step - loss: 0.1174 - accuracy: 0.9577 - val_loss: 0.2800 - val_accuracy: 0.8906\n",
      "Epoch 63/100\n",
      "16/16 [==============================] - 2s 117ms/step - loss: 0.1901 - accuracy: 0.9192 - val_loss: 0.3568 - val_accuracy: 0.7812\n",
      "Epoch 64/100\n",
      "16/16 [==============================] - 2s 122ms/step - loss: 0.1802 - accuracy: 0.9346 - val_loss: 0.2743 - val_accuracy: 0.8750\n",
      "Epoch 65/100\n",
      "16/16 [==============================] - 2s 119ms/step - loss: 0.1603 - accuracy: 0.9308 - val_loss: 0.2699 - val_accuracy: 0.9219\n",
      "Epoch 66/100\n",
      "16/16 [==============================] - 2s 118ms/step - loss: 0.1424 - accuracy: 0.9385 - val_loss: 0.2333 - val_accuracy: 0.8906\n",
      "Epoch 67/100\n",
      "16/16 [==============================] - 2s 118ms/step - loss: 0.1183 - accuracy: 0.9577 - val_loss: 0.2488 - val_accuracy: 0.9062\n",
      "Epoch 68/100\n",
      "16/16 [==============================] - 2s 119ms/step - loss: 0.1194 - accuracy: 0.9423 - val_loss: 0.2554 - val_accuracy: 0.8906\n",
      "Epoch 69/100\n",
      "16/16 [==============================] - 2s 121ms/step - loss: 0.1110 - accuracy: 0.9500 - val_loss: 0.3103 - val_accuracy: 0.8906\n",
      "Epoch 70/100\n",
      "16/16 [==============================] - 2s 118ms/step - loss: 0.1223 - accuracy: 0.9577 - val_loss: 0.2814 - val_accuracy: 0.8906\n",
      "Epoch 71/100\n",
      "16/16 [==============================] - 2s 125ms/step - loss: 0.1527 - accuracy: 0.9308 - val_loss: 0.3363 - val_accuracy: 0.8750\n",
      "Epoch 72/100\n",
      "16/16 [==============================] - 2s 123ms/step - loss: 0.2008 - accuracy: 0.9269 - val_loss: 0.2440 - val_accuracy: 0.8750\n",
      "Epoch 73/100\n",
      "16/16 [==============================] - 2s 118ms/step - loss: 0.1050 - accuracy: 0.9654 - val_loss: 0.2750 - val_accuracy: 0.9062\n",
      "Epoch 74/100\n",
      "16/16 [==============================] - 2s 119ms/step - loss: 0.1188 - accuracy: 0.9500 - val_loss: 0.2124 - val_accuracy: 0.8906\n",
      "Epoch 75/100\n",
      "16/16 [==============================] - 2s 118ms/step - loss: 0.1067 - accuracy: 0.9538 - val_loss: 0.2311 - val_accuracy: 0.8906\n",
      "Epoch 76/100\n",
      "16/16 [==============================] - 2s 120ms/step - loss: 0.1185 - accuracy: 0.9500 - val_loss: 0.1977 - val_accuracy: 0.9062\n",
      "Epoch 77/100\n",
      "16/16 [==============================] - 2s 117ms/step - loss: 0.0844 - accuracy: 0.9654 - val_loss: 0.2482 - val_accuracy: 0.8906\n",
      "Epoch 78/100\n",
      "16/16 [==============================] - 2s 118ms/step - loss: 0.0934 - accuracy: 0.9615 - val_loss: 0.2587 - val_accuracy: 0.9219\n",
      "Epoch 79/100\n",
      "16/16 [==============================] - 2s 119ms/step - loss: 0.1610 - accuracy: 0.9385 - val_loss: 0.5026 - val_accuracy: 0.8438\n",
      "Epoch 80/100\n",
      "16/16 [==============================] - 2s 127ms/step - loss: 0.1551 - accuracy: 0.9269 - val_loss: 0.2229 - val_accuracy: 0.9219\n",
      "Epoch 81/100\n",
      "16/16 [==============================] - 2s 118ms/step - loss: 0.1358 - accuracy: 0.9385 - val_loss: 0.2239 - val_accuracy: 0.9062\n",
      "Epoch 82/100\n",
      "16/16 [==============================] - 2s 118ms/step - loss: 0.1074 - accuracy: 0.9423 - val_loss: 0.2216 - val_accuracy: 0.9062\n",
      "Epoch 83/100\n",
      "16/16 [==============================] - 2s 118ms/step - loss: 0.0791 - accuracy: 0.9769 - val_loss: 0.2349 - val_accuracy: 0.9062\n",
      "Epoch 84/100\n",
      "16/16 [==============================] - 2s 118ms/step - loss: 0.0809 - accuracy: 0.9692 - val_loss: 0.2172 - val_accuracy: 0.9219\n",
      "Epoch 85/100\n",
      "16/16 [==============================] - 2s 140ms/step - loss: 0.0969 - accuracy: 0.9654 - val_loss: 0.2205 - val_accuracy: 0.9062\n",
      "Epoch 86/100\n",
      "16/16 [==============================] - 2s 123ms/step - loss: 0.0861 - accuracy: 0.9692 - val_loss: 0.2234 - val_accuracy: 0.9062\n",
      "Epoch 87/100\n",
      "16/16 [==============================] - 2s 119ms/step - loss: 0.0898 - accuracy: 0.9615 - val_loss: 0.2567 - val_accuracy: 0.9062\n",
      "Epoch 88/100\n",
      "16/16 [==============================] - 2s 124ms/step - loss: 0.1035 - accuracy: 0.9615 - val_loss: 0.2457 - val_accuracy: 0.9219\n",
      "Epoch 89/100\n",
      "16/16 [==============================] - 2s 117ms/step - loss: 0.0898 - accuracy: 0.9615 - val_loss: 0.2556 - val_accuracy: 0.9062\n",
      "Epoch 90/100\n",
      "16/16 [==============================] - 2s 117ms/step - loss: 0.0903 - accuracy: 0.9654 - val_loss: 0.2309 - val_accuracy: 0.9062\n",
      "Epoch 91/100\n",
      "16/16 [==============================] - 2s 117ms/step - loss: 0.0687 - accuracy: 0.9769 - val_loss: 0.1818 - val_accuracy: 0.9219\n",
      "Epoch 92/100\n",
      "16/16 [==============================] - 2s 118ms/step - loss: 0.0756 - accuracy: 0.9769 - val_loss: 0.2095 - val_accuracy: 0.9062\n",
      "Epoch 93/100\n",
      "16/16 [==============================] - 2s 120ms/step - loss: 0.0522 - accuracy: 0.9885 - val_loss: 0.2768 - val_accuracy: 0.9062\n",
      "Epoch 94/100\n",
      "16/16 [==============================] - 2s 119ms/step - loss: 0.0823 - accuracy: 0.9692 - val_loss: 0.2212 - val_accuracy: 0.8906\n",
      "Epoch 95/100\n",
      "16/16 [==============================] - 2s 122ms/step - loss: 0.0850 - accuracy: 0.9654 - val_loss: 0.1919 - val_accuracy: 0.9062\n",
      "Epoch 96/100\n",
      "16/16 [==============================] - 2s 130ms/step - loss: 0.0714 - accuracy: 0.9692 - val_loss: 0.2278 - val_accuracy: 0.9062\n",
      "Epoch 97/100\n",
      "16/16 [==============================] - 2s 120ms/step - loss: 0.0867 - accuracy: 0.9500 - val_loss: 0.2169 - val_accuracy: 0.9062\n",
      "Epoch 98/100\n",
      "16/16 [==============================] - 2s 121ms/step - loss: 0.0575 - accuracy: 0.9846 - val_loss: 0.1973 - val_accuracy: 0.9219\n",
      "Epoch 99/100\n",
      "16/16 [==============================] - 2s 120ms/step - loss: 0.0600 - accuracy: 0.9769 - val_loss: 0.2236 - val_accuracy: 0.9219\n",
      "Epoch 100/100\n",
      "16/16 [==============================] - 2s 117ms/step - loss: 0.0496 - accuracy: 0.9885 - val_loss: 0.2281 - val_accuracy: 0.9062\n"
     ]
    }
   ],
   "source": [
    "Model_history = Model.fit(train,\n",
    "                                epochs=epochs,\n",
    "                                verbose=1,\n",
    "                                validation_data=valid,\n",
    "                                steps_per_epoch=train.samples/train.batch_size,\n",
    "                                validation_steps=valid.samples/valid.batch_size)"
   ]
  },
  {
   "cell_type": "markdown",
   "metadata": {},
   "source": [
    "<a id=\"s\"></a>\n",
    "## Model Saving"
   ]
  },
  {
   "cell_type": "code",
   "execution_count": 8,
   "metadata": {
    "id": "mDOFf8WvWalA"
   },
   "outputs": [],
   "source": [
    "Model.save(\"image_classification.h5\")"
   ]
  },
  {
   "cell_type": "markdown",
   "metadata": {},
   "source": [
    "<a id=\"mt\"></a>\n",
    "## Model Testing"
   ]
  },
  {
   "cell_type": "code",
   "execution_count": 9,
   "metadata": {
    "colab": {
     "base_uri": "https://localhost:8080/"
    },
    "id": "q65UKOBs2yCR",
    "outputId": "b846b47d-d6ed-4b3d-cb55-c38c5ea3a71f"
   },
   "outputs": [
    {
     "name": "stdout",
     "output_type": "stream",
     "text": [
      "17/17 [==============================] - 1s 53ms/step - loss: 0.0377 - accuracy: 0.9923\n"
     ]
    },
    {
     "data": {
      "text/plain": [
       "[0.03769620880484581, 0.9923076629638672]"
      ]
     },
     "execution_count": 9,
     "metadata": {},
     "output_type": "execute_result"
    }
   ],
   "source": [
    "Model.evaluate(train)"
   ]
  },
  {
   "cell_type": "code",
   "execution_count": 10,
   "metadata": {
    "colab": {
     "base_uri": "https://localhost:8080/"
    },
    "id": "gu-KNMtAWAhP",
    "outputId": "5698a773-52e6-4953-f9ac-c5ba1ff5b185"
   },
   "outputs": [
    {
     "name": "stdout",
     "output_type": "stream",
     "text": [
      "4/4 [==============================] - 0s 77ms/step - loss: 0.2462 - accuracy: 0.9062\n"
     ]
    },
    {
     "data": {
      "text/plain": [
       "[0.24620141088962555, 0.90625]"
      ]
     },
     "execution_count": 10,
     "metadata": {},
     "output_type": "execute_result"
    }
   ],
   "source": [
    "Model.evaluate(valid)"
   ]
  },
  {
   "cell_type": "markdown",
   "metadata": {
    "id": "4Z2N5KgOWNFG"
   },
   "source": [
    "### Test on COVID IMAGE"
   ]
  },
  {
   "cell_type": "code",
   "execution_count": 11,
   "metadata": {
    "colab": {
     "base_uri": "https://localhost:8080/"
    },
    "id": "hlhVJup95Ixq",
    "outputId": "3c607522-89bb-49ff-b9ea-5d93a4a7ee20"
   },
   "outputs": [
    {
     "name": "stderr",
     "output_type": "stream",
     "text": [
      "C:\\Users\\ameer\\anaconda3\\lib\\site-packages\\keras_preprocessing\\image\\utils.py:107: UserWarning: grayscale is deprecated. Please use color_mode = \"grayscale\"\n",
      "  warnings.warn('grayscale is deprecated. Please use '\n"
     ]
    },
    {
     "data": {
      "text/plain": [
       "array([[0.]], dtype=float32)"
      ]
     },
     "execution_count": 11,
     "metadata": {},
     "output_type": "execute_result"
    }
   ],
   "source": [
    "my_image = load_img(r\"content\\Dataset\\COVID PATIENTS/covid_13.jpg\", target_size=(224, 224), grayscale=True)\n",
    "my_image = img_to_array(my_image)\n",
    "my_image = my_image.reshape(1, my_image.shape[0], my_image.shape[1], my_image.shape[2])\n",
    "Model.predict(my_image)"
   ]
  },
  {
   "cell_type": "markdown",
   "metadata": {
    "id": "Vr_YXNthWWCx"
   },
   "source": [
    "### Test on Normal IMAGE"
   ]
  },
  {
   "cell_type": "code",
   "execution_count": 12,
   "metadata": {
    "colab": {
     "base_uri": "https://localhost:8080/"
    },
    "id": "8ZN0ORKlKq3d",
    "outputId": "8d3c6918-0236-4644-d4b8-f3c16f79117e"
   },
   "outputs": [
    {
     "data": {
      "text/plain": [
       "array([[1.]], dtype=float32)"
      ]
     },
     "execution_count": 12,
     "metadata": {},
     "output_type": "execute_result"
    }
   ],
   "source": [
    "my_image = load_img(r\"content\\Dataset\\NORMAL PATIENTS/normal_0.jpg\", target_size=(224, 224), grayscale=True)\n",
    "my_image = img_to_array(my_image)\n",
    "my_image = my_image.reshape(1, my_image.shape[0], my_image.shape[1], my_image.shape[2])\n",
    "Model.predict(my_image)"
   ]
  },
  {
   "cell_type": "code",
   "execution_count": null,
   "metadata": {
    "id": "crVIMwye0UTa"
   },
   "outputs": [],
   "source": []
  }
 ],
 "metadata": {
  "colab": {
   "collapsed_sections": [],
   "name": "X-rays Image Classification.ipynb",
   "provenance": []
  },
  "kernelspec": {
   "display_name": "Python 3 (ipykernel)",
   "language": "python",
   "name": "python3"
  },
  "language_info": {
   "codemirror_mode": {
    "name": "ipython",
    "version": 3
   },
   "file_extension": ".py",
   "mimetype": "text/x-python",
   "name": "python",
   "nbconvert_exporter": "python",
   "pygments_lexer": "ipython3",
   "version": "3.8.5"
  }
 },
 "nbformat": 4,
 "nbformat_minor": 1
}
